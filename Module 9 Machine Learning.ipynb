{
 "cells": [
  {
   "cell_type": "markdown",
   "id": "e0cd4f41-13d8-46a3-bf23-69005b2d2f0e",
   "metadata": {},
   "source": [
    "# Transforming Healthcare with Data Analytics and AI\n",
    "\n",
    "---\n",
    "\n",
    "## Module 9: Machine Learning and AI\n",
    "\n",
    "This week we learned about key concepts in machine learning and AI such as **classification vs regression**, **underfitting and overfitting**, **the bias-variance tradeoff**, **performance measures** and **algorithmic bias**. In this notebook we're going to train and assess the performance of a machine learning model that predicts failed extubation from the MIMIC-II database.\n",
    "\n",
    "The MIMIC-II clinical database consists of data collected in a US intensive care unit and contains a large amount of information on such as **patient demographics and survival, medications, lab tests, events** and more.\n",
    "\n",
    "The diagram below shows an example of a patient timeline with the points when different measurements are made, along with the intubation period and the period over which the means are calculated.\n",
    "\n",
    "<center><img src=\"patient_timeline_intubation_241124.PNG\" alt=\"Patient Timeline\" width=\"60%\"></center>\n",
    "\n",
    "### Activities\n",
    "\n",
    "There are three activities in this notebook, which you will complete during the classes\n",
    "\n",
    "*  Activity 1: Use a Logistic Regression model to make predictions and assess model performance\n",
    "*  Activity 2: Carry out cross-validation using a Random Forest Machine Learning model\n",
    "*  Activity 3: Examine the performance of the model on unseen data and in particular patient cohorts in order to describe biases\n",
    "\n",
    "### How to use this notebook\n",
    "\n",
    "You are not expected to understand how all the Python code works, but should be comfortable running the code blocks\n",
    "\n",
    "- The notebook should be read and run in sequential order and consists of blocks of code and blocks of text. \n",
    "- To run the code in a cell press `shift+enter`\n",
    "- Run the cells in order. This ensures that the later cells have access to variables, functions and data that have been defined previously."
   ]
  },
  {
   "cell_type": "markdown",
   "id": "ff0758dd-1032-46ff-8a9e-45ec9c67f942",
   "metadata": {},
   "source": [
    "## Configure the notebook"
   ]
  },
  {
   "cell_type": "markdown",
   "id": "65528b5a-0323-4832-80d9-d98246767001",
   "metadata": {},
   "source": [
    "### Import packages"
   ]
  },
  {
   "cell_type": "code",
   "execution_count": 1,
   "id": "1f270adf-5708-49cf-8413-f0fed0d807af",
   "metadata": {},
   "outputs": [],
   "source": [
    "from d2k_utils_2025_mod8 import *"
   ]
  },
  {
   "cell_type": "code",
   "execution_count": 2,
   "id": "1afb7bff-1e09-4542-acaa-2d2d7da18d54",
   "metadata": {},
   "outputs": [],
   "source": [
    "pd.set_option('display.max_columns', None)\n",
    "pd.set_option('display.max_rows', None)\n",
    "plt.rcParams['figure.max_open_warning'] = 100  # or any other number\n",
    "\n",
    "%matplotlib inline\n",
    "sns.set()"
   ]
  },
  {
   "cell_type": "code",
   "execution_count": 3,
   "id": "d60eea6e-d4d6-4e48-a81e-f7e9e3266620",
   "metadata": {},
   "outputs": [],
   "source": [
    "np.random.seed(42)"
   ]
  },
  {
   "cell_type": "markdown",
   "id": "bcf0bb29-8ca0-4d16-b842-34acbd28b08f",
   "metadata": {},
   "source": [
    "### Create development and test datasets"
   ]
  },
  {
   "cell_type": "code",
   "execution_count": 4,
   "id": "bfbc7b8c-840c-46a5-a989-9e7f252a7d27",
   "metadata": {},
   "outputs": [],
   "source": [
    "# load the data\n",
    "df = pd.read_csv('ext_data2.csv')\n",
    "\n",
    "# simple data transformations: get the first ICU admission for each patient\n",
    "# remove patients who have died\n",
    "df = (\n",
    "    df\n",
    "    .groupby('subject_id', as_index=False).first() # first icu admission for each patient\n",
    "    .query('fail_ext_status != \"Death\"') # remove patients who died\n",
    "    .assign(sex_coded=lambda df_: df_.sex.map({'M': 1, 'F': 0}))\n",
    "    .assign(fail_ext_coded=lambda df_: df_.fail_ext_status_bin.map({'Failed extubation': 1, \n",
    "                                                                    'Successful extubation': 0}))\n",
    ")"
   ]
  },
  {
   "cell_type": "code",
   "execution_count": 5,
   "id": "c7340919-9a1f-4f4a-97af-7308aa9f5fe5",
   "metadata": {},
   "outputs": [],
   "source": [
    "# total number of patients\n",
    "num_patients = df.shape[0]\n",
    "df_indices = np.arange(0, num_patients)\n",
    "\n",
    "# split the data\n",
    "# X contains the variables and y the labels\n",
    "X_dev, X_test, y_dev, y_test = train_test_split(\n",
    "    df_indices,\n",
    "    df.fail_ext_coded.values,\n",
    "    test_size=0.25,\n",
    "    random_state=42\n",
    ")\n",
    "\n",
    "df_dev = df.iloc[X_dev, :]\n",
    "df_test = df.iloc[X_test, :]\n",
    "\n",
    "df_train = df_dev.iloc[:440, :]\n",
    "df_val = df_dev.iloc[440:, :]"
   ]
  },
  {
   "attachments": {},
   "cell_type": "markdown",
   "id": "c30677a1-92db-4031-9987-bcda14cc6d53",
   "metadata": {},
   "source": [
    "## Activity 1: Calculating performance statistics for logistic regression\n",
    "\n",
    "Our goal is to develop a model to **predict which patients will experience failed extubation**. There are many possible models that can do this. \n",
    "\n",
    "Keep in mind the type of machine learning task we are trying to solve. The task is **binary classification** since we our prediction involves only two possible outcomes: failed or successful extubation. To solve this task we are using **supervised learning** since we provide the input data along with the labels of patients who did and did not experience failed extubation. \n",
    "\n",
    "In these activities **a positive case is a patient who experienced failed extubation, while a negative case is a patient who did not**\n",
    "\n",
    "\n",
    "**Run the code blocks below. The comments indicate the steps taken to train the model. You do not need to change any code.**"
   ]
  },
  {
   "cell_type": "code",
   "execution_count": 21,
   "id": "d10ebf44-dd21-4bba-84c8-8b8a7aa6100f",
   "metadata": {},
   "outputs": [],
   "source": [
    "# select a few variables\n",
    "variables = ['age', 'PaO2', 'overall_sofa_score']\n",
    "\n",
    "# remove patients who have missing values\n",
    "df_dev2 = df_dev.loc[:, variables + ['fail_ext_coded']].dropna()\n",
    "\n",
    "# X contains the features (also called 'input variables' or 'predictors')\n",
    "# y contains the outcome\n",
    "X = df_dev2.loc[:, variables].values\n",
    "y = df_dev2.fail_ext_coded.values"
   ]
  },
  {
   "cell_type": "code",
   "execution_count": 22,
   "id": "4a26064c-e8b9-4726-ba74-751117941285",
   "metadata": {},
   "outputs": [],
   "source": [
    "# define the classification algorithm to use\n",
    "clf = LogisticRegression()"
   ]
  },
  {
   "cell_type": "code",
   "execution_count": null,
   "id": "cedaab16-aed3-48a1-989c-b90735ad8c50",
   "metadata": {},
   "outputs": [],
   "source": [
    "# train the model: a blue box will appear when this is done\n",
    "clf.fit(X, y)"
   ]
  },
  {
   "cell_type": "code",
   "execution_count": 24,
   "id": "ac09a6d4-84f8-4a22-8665-f92395186d85",
   "metadata": {},
   "outputs": [],
   "source": [
    "# make predictions\n",
    "# the labels (1 for a prediction of failed extubation and 0 for a prediction of successful extubation)\n",
    "y_preds = clf.predict(X)\n",
    "\n",
    "# the 'probabilities' for a failed extubation\n",
    "y_pred_probs = clf.predict_proba(X)[:, 1]"
   ]
  },
  {
   "cell_type": "code",
   "execution_count": null,
   "id": "47ae1847-b705-476e-9bc8-25a81e924c6b",
   "metadata": {},
   "outputs": [],
   "source": [
    "# let's look at a few predictions\n",
    "pd.DataFrame(data=X, columns=variables).assign(failed_extubation=y_preds).sample(8, random_state=16)"
   ]
  },
  {
   "cell_type": "markdown",
   "id": "cedfe9a1-3154-4029-8ca8-580f805fca70",
   "metadata": {},
   "source": [
    "### 1.1. The confusion matrix\n",
    "\n",
    "Yes, this can be confusing."
   ]
  },
  {
   "cell_type": "code",
   "execution_count": null,
   "id": "a9481736-0330-45ab-b3ad-afc7325e4cdd",
   "metadata": {},
   "outputs": [],
   "source": [
    "# calculate the confusion matrix values\n",
    "tn, fp, fn, tp = confusion_matrix(y, y_preds).ravel()\n",
    "\n",
    "# Create a 2x2 matrix\n",
    "conf_matrix = np.array([[fn, tp],\n",
    "                        [tn, fp]])\n",
    "\n",
    "# Plot the confusion matrix\n",
    "plt.figure(figsize=(4, 4))\n",
    "sns.heatmap(conf_matrix, annot=True, fmt='d', cmap='Blues', cbar=False,\n",
    "            xticklabels=['Predicted Negative', 'Predicted Positive'],\n",
    "            yticklabels=['Actual Positive', 'Actual Negative'])\n",
    "\n",
    "plt.title('Confusion Matrix')\n",
    "plt.xlabel('Predicted')\n",
    "plt.ylabel('Actual')\n",
    "plt.show()"
   ]
  },
  {
   "cell_type": "markdown",
   "id": "c7773b8f-f9d4-4f61-bfba-43d5b105d64c",
   "metadata": {},
   "source": [
    "**Record the confusion matrix then calculate each of the following and explain what the results mean clinically:**\n",
    "\n",
    "- Sensitivity\n",
    "- Specificity\n",
    "- Positive Predictive Value\n",
    "- Negative Predictive Value\n",
    "- Accuracy (the proportion of predictions that are correct)"
   ]
  },
  {
   "cell_type": "markdown",
   "id": "39aceddc-7e65-4105-8969-fde3e8936e40",
   "metadata": {},
   "source": [
    "#### 1.2. The ROC curve and  Area Under Curve (AUC). \n",
    "\n",
    "Run the code below to produce the plots of the ROC curve and corresponding AUC.\n",
    "\n",
    "**How would you interpret this ROC curve and AUC? What does an AUC of 0.5 mean?**"
   ]
  },
  {
   "cell_type": "code",
   "execution_count": 34,
   "id": "cbf916b7-acc1-49d8-9bcb-2329404073ce",
   "metadata": {},
   "outputs": [],
   "source": [
    "# calculate the AUC\n",
    "auc = roc_auc_score(y, y_pred_probs)"
   ]
  },
  {
   "cell_type": "code",
   "execution_count": null,
   "id": "b5a88403-a443-43c8-ad4d-1808dae0e543",
   "metadata": {},
   "outputs": [],
   "source": [
    "# calculate true positive rate and false positive rate in terms of threshold values\n",
    "fpr, tpr, thresholds = roc_curve(y, y_pred_probs, pos_label=1)\n",
    "\n",
    "plt.figure(figsize=(6, 4))\n",
    "plt.plot(fpr, tpr, label=f'AUC: {np.round(auc, 2)}', c='r')\n",
    "plt.legend()\n",
    "plt.xlabel(\"1 - Specificity\")\n",
    "plt.ylabel(\"Sensitivity\")\n",
    "plt.show()"
   ]
  },
  {
   "attachments": {},
   "cell_type": "markdown",
   "id": "05657a6c-eda6-4a0b-b767-3e5fb61b1996",
   "metadata": {},
   "source": [
    "## Activity 2: Cross-validation and Random Forests"
   ]
  },
  {
   "cell_type": "markdown",
   "id": "1102d730-8be7-4ec0-b2a0-e59956710215",
   "metadata": {},
   "source": [
    "### 2.1. Cross-validation \n",
    "\n",
    "Let's try a more sophisticated machine learning model called **Random Forests**. These models are commonly used when working with tabular data (such as electronic health records). "
   ]
  },
  {
   "cell_type": "code",
   "execution_count": 36,
   "id": "69661bcf-2659-44c2-b7a9-ac3b7f74420d",
   "metadata": {},
   "outputs": [],
   "source": [
    "# let's use lots of the variables\n",
    "variables = ['age', 'elixhauser_score', 'hr_mean', 'rr_mean', 'FiO2_set_mean', 'FiO2_Set',\n",
    "             'tidal_volume_Obs', 'arterial_bp_mean', 'Albumin (>3.2)', 'arterial_ph',\n",
    "             'Creatinine (0-1.3)', 'WBC', 'respiratory_sofa_score',\n",
    "             'overall_sofa_score', 'congestive_heart_failure', 'cardiac_arrhythmias',\n",
    "             'valvular_disease', 'pulmonary_circulation', 'peripheral_vascular',\n",
    "             'hypertension', 'paralysis', 'other_neurological', 'chronic_pulmonary',\n",
    "             'diabetes_uncomplicated', 'diabetes_complicated', 'hypothyroidism',\n",
    "             'renal_failure', 'liver_disease', 'peptic_ulcer', 'aids', 'lymphoma',\n",
    "             'metastatic_cancer', 'solid_tumor', 'rheumatoid_arthritis',\n",
    "             'coagulopathy', 'obesity', 'weight_loss', 'fluid_electrolyte',\n",
    "             'blood_loss_anemia', 'deficiency_anemias', 'alcohol_abuse',\n",
    "             'drug_abuse', 'psychoses', 'depression', 'hgb',\n",
    "             'PaO2', 'PaCO2']"
   ]
  },
  {
   "cell_type": "code",
   "execution_count": 37,
   "id": "d3db3089-6b7f-49a8-8e2b-5ad3028e2c79",
   "metadata": {},
   "outputs": [],
   "source": [
    "X = df_dev.loc[:, variables].values\n",
    "y = df_dev.fail_ext_coded.values"
   ]
  },
  {
   "cell_type": "markdown",
   "id": "f9c6ae93-6867-4401-97f4-5e00a41562e4",
   "metadata": {},
   "source": [
    "We will use cross-validation to train many different models using the parameters below and then select the best one."
   ]
  },
  {
   "cell_type": "code",
   "execution_count": 38,
   "id": "9e2f6c9f-ea11-4744-a6a2-15508ebbc566",
   "metadata": {},
   "outputs": [],
   "source": [
    "# different model hyperparameters. Each combination of n_estimators and max_depth results in a different model\n",
    "n_estimators = [5, 10, 50, 100]\n",
    "max_depth = [1, 2, 5, 10, 20, 100]"
   ]
  },
  {
   "cell_type": "code",
   "execution_count": null,
   "id": "2b99c9f8-104d-4168-9c6e-b0825e7b07c4",
   "metadata": {},
   "outputs": [],
   "source": [
    "# fit multiple models (this may take a minute or two)\n",
    "mean_cv_scores = []\n",
    "\n",
    "for n in n_estimators:\n",
    "    for m in max_depth:\n",
    "        clf = RandomForestClassifier(n_estimators=n, max_depth=m, random_state=0)\n",
    "        scores = cross_val_score(clf, X, y, cv=10, scoring='roc_auc') # cv=10 means we split the data into 10 'folds'\n",
    "        score_mean = np.mean(scores)\n",
    "        print(f\"n_estimators: {n}, max_depth: {m}, mean_cv_score: {score_mean}\")\n",
    "        mean_cv_scores.append((n, m, score_mean))\n",
    "\n",
    "sorted_mean_cv_score = sorted(mean_cv_scores, key=lambda x: x[2])\n",
    "best = sorted_mean_cv_score[-1]"
   ]
  },
  {
   "cell_type": "markdown",
   "id": "37757778-b21d-40d5-9e25-a23bb263c09c",
   "metadata": {},
   "source": [
    "**Which combination of n_estimators and max_depth gives the best mean_cv_score?**"
   ]
  },
  {
   "cell_type": "code",
   "execution_count": null,
   "id": "5c39dede-bc94-4605-81e6-ca7b95f1dc87",
   "metadata": {},
   "outputs": [],
   "source": [
    "# fit a model using the best combination\n",
    "clf = RandomForestClassifier(n_estimators=best_n_estimators, max_depth=best_max_depth, random_state=0)\n",
    "\n",
    "X_train = df_train.loc[:, variables].values\n",
    "y_train = df_train.loc[:, 'fail_ext_coded'].values\n",
    "\n",
    "X_val = df_val.loc[:, variables].values\n",
    "y_val = df_val.loc[:, 'fail_ext_coded'].values\n",
    "\n",
    "clf.fit(X_train, y_train)"
   ]
  },
  {
   "cell_type": "code",
   "execution_count": 48,
   "id": "577cf769-87fb-4b0c-83dc-2bae9cd2bf60",
   "metadata": {},
   "outputs": [],
   "source": [
    "# make some predictions\n",
    "y_train_preds = clf.predict(X_train)\n",
    "\n",
    "# let's look at some of the predictions from this model\n",
    "pd.DataFrame(data=X_train, columns=variables).assign(failed_extubation=y_train_preds).sample(8, random_state=16)"
   ]
  },
  {
   "cell_type": "markdown",
   "id": "9fd10738-7fa2-4263-b0b7-0a706fbe003a",
   "metadata": {},
   "source": [
    "### 2.2. Calculating performance statistics for the model\n",
    "\n",
    "Now we will calculate the PPV, NPV, sensitivity, specificity and AUC for this model"
   ]
  },
  {
   "cell_type": "code",
   "execution_count": 42,
   "id": "3426b568-b55a-4699-b706-5fbe574ec0a6",
   "metadata": {},
   "outputs": [],
   "source": [
    "# the dataset to evaluate the performance on: note that this is different from the \n",
    "dataset = df_val.loc[:, variables + ['fail_ext_coded']]"
   ]
  },
  {
   "cell_type": "code",
   "execution_count": 43,
   "id": "2da85e53-9200-4fa4-b6be-f4974fde0002",
   "metadata": {},
   "outputs": [],
   "source": [
    "# calculate performance statistics\n",
    "stat_names = ['PPV', 'NPV', 'sensitivity', 'specificity', 'AUC']\n",
    "ppv_estims, npv_estims, sens_estims, spec_estims, auc_estims = calculate_performance_stats(dataset, clf, 32)"
   ]
  },
  {
   "cell_type": "code",
   "execution_count": 44,
   "id": "a3d54845-8dda-4444-b618-f13bac060d32",
   "metadata": {},
   "outputs": [],
   "source": [
    "# put these in a dataframe\n",
    "df_stats = (\n",
    "    pd.DataFrame(data=[ppv_estims, npv_estims, sens_estims, spec_estims, auc_estims])\n",
    "    .rename(columns={0: 'point_estimate', 1: 'left_ci', 2: 'right_ci'})\n",
    "    .assign(stat_name=stat_names)\n",
    "    .assign(dataset='validation')\n",
    ")"
   ]
  },
  {
   "cell_type": "code",
   "execution_count": null,
   "id": "07c57389-6d02-4fe1-88a1-5fa23def8015",
   "metadata": {},
   "outputs": [],
   "source": [
    "df_stats"
   ]
  },
  {
   "cell_type": "markdown",
   "id": "e7272a34-ec8d-4d7a-9f7a-b67ae1049c99",
   "metadata": {},
   "source": [
    "Now let's visualise the statistics, including the point estimate of each along with the corresponding 95% confidence interval. \n",
    "\n",
    "**Worksheet: What do each of the performance statistics mean clinically? Which ones are most relevant for the problem (maybe more than one)?**"
   ]
  },
  {
   "cell_type": "code",
   "execution_count": 40,
   "id": "95e02154-5247-41e3-b7cc-35e4d79b1cbc",
   "metadata": {},
   "outputs": [],
   "source": [
    "# calculate the predicted 'scores' from the model\n",
    "y_pred_prob = clf.predict_proba(X_val)"
   ]
  },
  {
   "cell_type": "code",
   "execution_count": null,
   "id": "8cbb6edc-9b01-4dae-9040-4982b2ec6d3c",
   "metadata": {},
   "outputs": [],
   "source": [
    "sns.set_style('white')\n",
    "\n",
    "# Create a figure with two subplots\n",
    "fig, axes = plt.subplots(1, 2, figsize=(12, 4))\n",
    "\n",
    "# Plot 1: Performance Statistics\n",
    "axes[0].scatter(df_stats.stat_name, df_stats.point_estimate, c='r', marker='D')\n",
    "for n in range(0, 5):\n",
    "    left_ci, right_ci = df_stats.loc[n, ['left_ci', 'right_ci']].values\n",
    "    axes[0].vlines(n, left_ci, right_ci, colors='r')\n",
    "axes[0].set_ylim(0, 1)\n",
    "axes[0].set_xlabel('Statistic')\n",
    "axes[0].set_ylabel('Value')\n",
    "axes[0].set_title('Performance Statistics')\n",
    "\n",
    "# Plot 2: ROC Curve\n",
    "auc = roc_auc_score(y_val, y_pred_prob[:, 1])\n",
    "fpr, tpr, thresholds = roc_curve(y_val, y_pred_prob[:, 1], pos_label=1)\n",
    "axes[1].plot(fpr, tpr, label=f'AUC: {np.round(auc, 2)}', c='r')\n",
    "axes[1].legend()\n",
    "axes[1].set_xlabel(\"1 - Specificity\")\n",
    "axes[1].set_ylabel(\"Sensitivity\")\n",
    "axes[1].set_title(\"ROC Curve\")\n",
    "\n",
    "# Adjust layout and show the plots\n",
    "plt.tight_layout()\n",
    "plt.show()"
   ]
  },
  {
   "cell_type": "markdown",
   "id": "de17caaa-178a-4ace-954a-a3dc4663dec3",
   "metadata": {},
   "source": [
    "### 2.3. Feature importance values\n",
    "\n",
    "Models such as Random Forests, once trained, can tell us which of the features are most important for making predictions. This can be useful for interpreting the results of the model as it allows us to compare those features identified as important with what may be expected clinically\n",
    "\n",
    "**Do these 'most important' features coincide with what would be expected?**"
   ]
  },
  {
   "cell_type": "code",
   "execution_count": 22,
   "id": "92b52d0f-0b19-408f-9205-42d84c6c05d7",
   "metadata": {},
   "outputs": [],
   "source": [
    "# calculate the importances and the names of the features\n",
    "importances = clf.feature_importances_\n",
    "features = np.array(variables)\n",
    "\n",
    "# sort them in descending order of importance\n",
    "args_sorted = np.argsort(importances)\n",
    "features = features[args_sorted]\n",
    "importances = importances[args_sorted]"
   ]
  },
  {
   "cell_type": "code",
   "execution_count": null,
   "id": "7624674d-ce05-49b1-b66e-a89435286f5e",
   "metadata": {},
   "outputs": [],
   "source": [
    "# plot the feature importances\n",
    "plt.figure(figsize=(4, 5))\n",
    "plt.barh(y=features[::-1][:20][::-1], width=importances[::-1][:20][::-1], color='r')\n",
    "plt.title(\"Top 20 features\")\n",
    "plt.show()"
   ]
  },
  {
   "attachments": {},
   "cell_type": "markdown",
   "id": "ca003065-4e23-41b9-9a19-23a9a598a161",
   "metadata": {},
   "source": [
    "## Activity 3: Generalisation performance and algorithmic bias\n",
    "\n",
    "Now let's see how well the model predicts failed extubation on data that it hasn't been trained on. This is a good way to estimate how well the model would be expected to perform 'in the real world.' \n",
    "\n",
    "Testing the model performance on the same data as the model is trained on is one of the pitfalls of machine learning. This is a bit like rote-learning. Instead, we need to assess the performance on an independent dataset. Fortunately we have set aside 20% of the data to do this."
   ]
  },
  {
   "cell_type": "code",
   "execution_count": 50,
   "id": "4950fb87-3f8b-4cab-8acb-8d9d28bf1857",
   "metadata": {},
   "outputs": [],
   "source": [
    "# we will now use the test set\n",
    "dataset = df_test.loc[:, variables + ['fail_ext_coded']]"
   ]
  },
  {
   "cell_type": "code",
   "execution_count": 51,
   "id": "031a8993-11d4-4706-b1f5-932375b282e4",
   "metadata": {},
   "outputs": [],
   "source": [
    "# calculate the performance statistics\n",
    "ppv_estims2, npv_estims2, sens_estims2, spec_estims2, auc_estims2 = calculate_performance_stats(dataset, clf, 32)"
   ]
  },
  {
   "cell_type": "code",
   "execution_count": 52,
   "id": "be6373a8-da72-46bb-9826-dbc8f189d77d",
   "metadata": {},
   "outputs": [],
   "source": [
    "# put the results from the development set and the test set in a dataframe\n",
    "df_stats2 = (\n",
    "    pd.DataFrame(data=[ppv_estims2, npv_estims2, sens_estims2, spec_estims2, auc_estims2])\n",
    "    .rename(columns={0: 'point_estimate', 1: 'left_ci', 2: 'right_ci'})\n",
    "    .assign(stat_name=stat_names)\n",
    "    .assign(dataset='test')\n",
    ")\n",
    "\n",
    "df_stats_both = pd.concat(\n",
    "    [\n",
    "        df_stats.assign(stat_order=np.arange(0, 5)), \n",
    "        df_stats2.assign(stat_order=np.arange(0, 5) + 0.2)\n",
    "    ]\n",
    ")"
   ]
  },
  {
   "cell_type": "markdown",
   "id": "bdc713ad-fab8-41d1-b360-e16b60d045ee",
   "metadata": {},
   "source": [
    "### 3.1. Development set vs test set performance\n",
    "\n",
    "We have kept a dataset held-out from the remaining data until the very end, so that we can get an overall estimate of how we expect the model to perform on new, unseen data from the ICU.\n",
    "\n",
    "**What do you notice about the results in the visualisation below?**"
   ]
  },
  {
   "cell_type": "code",
   "execution_count": null,
   "id": "aeb6a348-2a5b-4321-9770-4ad5fa9a3cbe",
   "metadata": {},
   "outputs": [],
   "source": [
    "sns.set_style('white')\n",
    "\n",
    "plt.figure(figsize=(6, 4))\n",
    "\n",
    "plt.scatter(np.arange(0, 5), df_stats_both.query('dataset==\"validation\"').point_estimate, c='r', marker='D', label='development set')\n",
    "for n in range(0, 5):\n",
    "    left_ci, right_ci = df_stats_both.query('dataset==\"validation\"').loc[n, ['left_ci', 'right_ci']].values\n",
    "    plt.axvline(n, left_ci, right_ci, c='r')\n",
    "\n",
    "plt.scatter(np.arange(0, 5)+0.1, df_stats_both.query('dataset==\"test\"').point_estimate, c='b', marker='D', label='test set')\n",
    "for n in range(0, 5):\n",
    "    left_ci, right_ci = df_stats_both.query('dataset==\"test\"').loc[n, ['left_ci', 'right_ci']].values\n",
    "    plt.axvline(n+0.1, left_ci, right_ci, c='b')\n",
    "    \n",
    "plt.ylim(0, 1)\n",
    "plt.xlabel('Statistic')\n",
    "plt.xticks(ticks=np.arange(0, 5), labels=stat_names)\n",
    "plt.ylabel('Value')\n",
    "plt.legend()\n",
    "plt.title('Performance Statistics')\n",
    "plt.show()"
   ]
  },
  {
   "cell_type": "markdown",
   "id": "2693e4a3-40b7-4458-845a-1cf0b030a4d2",
   "metadata": {},
   "source": [
    "### 3.2. Algorithmic bias\n",
    "\n",
    "We have estimated the *overall* performance of the model. But we should also consider how the model performance might vary according to different types of patients.\n",
    "\n",
    "We will consider onlt male and female patients. We could also define cohorts in terms of ethnicity, religion, age group or another patient characteristic. For example, if we had more than one hospital represented in the data, we might consider how the model performance varies between different hospitals."
   ]
  },
  {
   "cell_type": "code",
   "execution_count": 54,
   "id": "39df4bcd-c022-4c4b-95b2-1da1f37ea612",
   "metadata": {},
   "outputs": [],
   "source": [
    "# male patients\n",
    "dataset_m = df_test.query('sex_coded == 1').loc[:, variables + ['fail_ext_coded']]\n",
    "\n",
    "# female patients\n",
    "dataset_f = df_test.query('sex_coded == 0').loc[:, variables + ['fail_ext_coded']]"
   ]
  },
  {
   "cell_type": "code",
   "execution_count": 55,
   "id": "0a3ffa0a-804b-4c18-9f1a-0f33c97dbd2e",
   "metadata": {},
   "outputs": [],
   "source": [
    "# performance statistics for male and female patients\n",
    "ppv_estims_m, npv_estims_m, sens_estims_m, spec_estims_m, auc_estims_m = calculate_performance_stats(dataset_m, clf, 32)\n",
    "ppv_estims_f, npv_estims_f, sens_estims_f, spec_estims_f, auc_estims_f = calculate_performance_stats(dataset_f, clf, 32)"
   ]
  },
  {
   "cell_type": "code",
   "execution_count": 56,
   "id": "9770ec3a-3e9c-4f90-af61-d5aaaa6d5689",
   "metadata": {},
   "outputs": [],
   "source": [
    "# dataframe for male patients\n",
    "df_stats_m = (\n",
    "    pd.DataFrame(data=[ppv_estims_m, npv_estims_m, sens_estims_m, spec_estims_m, auc_estims_m])\n",
    "    .rename(columns={0: 'point_estimate', 1: 'left_ci', 2: 'right_ci'})\n",
    "    .assign(stat_name=stat_names)\n",
    "    .assign(sex='male')\n",
    "    .assign(dataset='test')\n",
    ")\n",
    "\n",
    "# dataframe for female patients\n",
    "df_stats_f = (\n",
    "    pd.DataFrame(data=[ppv_estims_f, npv_estims_f, sens_estims_f, spec_estims_f, auc_estims_f])\n",
    "    .rename(columns={0: 'point_estimate', 1: 'left_ci', 2: 'right_ci'})\n",
    "    .assign(stat_name=stat_names)\n",
    "    .assign(sex='female')\n",
    "    .assign(dataset='test')\n",
    ")\n",
    "\n",
    "# single dataframe containing all the performance measures\n",
    "df_stats_sex = pd.concat(\n",
    "    [\n",
    "        df_stats2.assign(stat_order=np.arange(0, 5)).assign(sex='all'),\n",
    "        df_stats_m.assign(stat_order=np.arange(0, 5) + 0.1), \n",
    "        df_stats_f.assign(stat_order=np.arange(0, 5) + 0.2)\n",
    "    ]\n",
    ")"
   ]
  },
  {
   "cell_type": "markdown",
   "id": "f810b0bb-5c59-4505-8f8a-7aa395aa4c6e",
   "metadata": {},
   "source": [
    "#### Visualise the results\n",
    "A useful way to compare the results is to plot the performance statistics, including their point estimates and confidence intervals, on the same chart, showing the values for the overall cohort, only males, and only females.\n",
    "\n",
    "**What do you notice about the results in the visualisation below? If there evidence for bias between men and women?**"
   ]
  },
  {
   "cell_type": "code",
   "execution_count": 57,
   "id": "92316394-d068-42eb-9c6b-182e30564b13",
   "metadata": {},
   "outputs": [
    {
     "data": {
      "image/png": "[encoded data removed]",
      "text/plain": [
       "<Figure size 600x400 with 1 Axes>"
      ]
     },
     "metadata": {},
     "output_type": "display_data"
    }
   ],
   "source": [
    "sns.set_style('white')\n",
    "\n",
    "plt.figure(figsize=(6, 4))\n",
    "\n",
    "plt.scatter(np.arange(0, 5), df_stats_sex.query('sex==\"all\"').point_estimate, c='k', marker='D', label='all')\n",
    "for n in range(0, 5):\n",
    "    left_ci, right_ci = df_stats_sex.query('sex==\"all\"').loc[n, ['left_ci', 'right_ci']].values\n",
    "    plt.axvline(n, left_ci, right_ci, c='k')\n",
    "\n",
    "plt.scatter(np.arange(0, 5)+0.1, df_stats_sex.query('sex==\"male\"').point_estimate, c='r', marker='D', label='male')\n",
    "for n in range(0, 5):\n",
    "    left_ci, right_ci = df_stats_sex.query('sex==\"male\"').loc[n, ['left_ci', 'right_ci']].values\n",
    "    plt.axvline(n+0.1, left_ci, right_ci, c='r')\n",
    "\n",
    "plt.scatter(np.arange(0, 5)+0.2, df_stats_sex.query('sex==\"female\"').point_estimate, c='b', marker='D', label='female')\n",
    "for n in range(0, 5):\n",
    "    left_ci, right_ci = df_stats_sex.query('sex==\"female\"').loc[n, ['left_ci', 'right_ci']].values\n",
    "    plt.axvline(n+0.2, left_ci, right_ci, c='b')\n",
    "    \n",
    "plt.ylim(0, 1)\n",
    "plt.xlabel('Statistic')\n",
    "plt.xticks(ticks=np.arange(0, 5), labels=stat_names)\n",
    "plt.ylabel('Value')\n",
    "plt.title('Performance Statistics')\n",
    "plt.legend()\n",
    "plt.show()"
   ]
  },
  {
   "cell_type": "markdown",
   "id": "f5e2fe6a-b39d-4740-880c-49b8c7bc3039",
   "metadata": {},
   "source": [
    "## 4. Some additional things to think about\n",
    "\n",
    "Think of a specific healthcare application that uses a machine learning or AI model:\n",
    "- What would be some suitable statistics (e.g., accuracy, ppv, sensitivity or something else) that you could use to assess its performance? What are some of the subtleties to be aware of?\n",
    "- How might bias appear?\n",
    "- In which settings would we expect the model to perform well? In which settings might performance decrease?"
   ]
  },
  {
   "cell_type": "code",
   "execution_count": null,
   "id": "15996e14-67e6-4bc2-b71e-a9b63cfcfbb1",
   "metadata": {},
   "outputs": [],
   "source": []
  }
 ],
 "metadata": {
  "kernelspec": {
   "display_name": "thda",
   "language": "python",
   "name": "thda"
  },
  "language_info": {
   "codemirror_mode": {
    "name": "ipython",
    "version": 3
   },
   "file_extension": ".py",
   "mimetype": "text/x-python",
   "name": "python",
   "nbconvert_exporter": "python",
   "pygments_lexer": "ipython3",
   "version": "3.13.1"
  }
 },
 "nbformat": 4,
 "nbformat_minor": 5
}
