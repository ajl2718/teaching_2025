{
 "cells": [
  {
   "cell_type": "markdown",
   "metadata": {
    "id": "_EtysfbrQIFr"
   },
   "source": [
    "# Transforming Healthcare with Data Analytics and AI\n",
    "\n",
    "---\n",
    "\n",
    "## Module 8: Linear Regression\n",
    "\n",
    "This week we learned about how to **quantify and model linear relationships** in data. Now we're going to apply the techniques learned in this module to data from the MIMIC-II clinical database. \n",
    "\n",
    "As you saw in the previous module, the MIMIC-II clinical database consists of data collected in a US intensive care unit and contains a large amount of information such as **patient demographics** **medications, lab tests, events** and more.\n",
    "\n",
    "### Activities\n",
    "\n",
    "The ultimate goal of this notebook will be to develop a model that predicts the time that an ICU patient is likely to be intubated for. We will spend the first two activities reviewing some of the key concepts in the module to ensure you have a good understanding of them.\n",
    "\n",
    "There are three activities in this notebook:\n",
    "\n",
    "*  **Activity 1**: Correlation and $r^2$\n",
    "*  **Activity 2**: Line of best fit and Mean Squared Error (MSE)\n",
    "*  **Activity 3**: Multiple linear regression for predicting duration of intubation\n",
    "\n",
    "\n",
    "Doing the activities will help you to understand the benefits and limitations of regression modelling, which is probably the most widely used statistical and machine learning modelling technique. It has broad applicability to a range of problems in healthcare and hopefully you will be able to apply it to some of your own work in the future.\n",
    "\n",
    "### How to use this notebook\n",
    "\n",
    "- You are not expected to understand how all the Python code works, but should be comfortable running the code blocks and interacting with the visualisations to answer the questions.\n",
    "- The notebook should be followed in sequential order.\n",
    "- If you click on the hamburger icon on the far left it will show a table of contents where you can jump to a given section"
   ]
  },
  {
   "cell_type": "markdown",
   "metadata": {
    "id": "_cE83vSyniti"
   },
   "source": [
    "# Import all the relevant Python packages\n",
    "\n",
    "These cells import the relevant functions for carrying out the analysis, and ensure that the results are displayed correctly."
   ]
  },
  {
   "cell_type": "code",
   "execution_count": 7,
   "metadata": {},
   "outputs": [],
   "source": [
    "from d2k_utils_2025_mod8 import *"
   ]
  },
  {
   "cell_type": "code",
   "execution_count": 8,
   "metadata": {},
   "outputs": [],
   "source": [
    "pd.set_option('display.max_columns', None)\n",
    "pd.set_option('display.max_rows', None)\n",
    "plt.rcParams['figure.max_open_warning'] = 100  # or any other number\n",
    "\n",
    "%matplotlib inline"
   ]
  },
  {
   "cell_type": "markdown",
   "metadata": {},
   "source": [
    "## Activity 1: Correlations and $r^2$\n",
    "\n",
    "The correlation coefficient summarises important information about the relationship between two variables. This activity will help you to develop some intuition for the coefficient, and how it can capture important relationships between clinical variables.\n",
    "\n",
    "The code below creates a scatter plot and calculates Pearson's correlation coefficient along with a corresponding p-value for `first_heart_rate` and `first_resp_rate` variables, similar to that seen in the module in Canvas. \n",
    "\n",
    "**For this activity answer the following questions**\n",
    "\n",
    "Use the dropdown boxes to experiment with different combinations of variables and record in your worksheet three pairs of variables that you thought were interesting. Then for each pair, answer the following questions:\n",
    "1) What is the strength of the correlation coefficient? What is the value of $r^2$?\n",
    "2) What is the direction of the relationship?\n",
    "3) What proportion of variance in one variable is explained by the other?\n",
    "4) Are these results what would be expected clinically? Why / why not?"
   ]
  },
  {
   "cell_type": "code",
   "execution_count": 9,
   "metadata": {},
   "outputs": [],
   "source": [
    "# combination 1\n",
    "# 1) What is the strength of the correlation coefficient? What is the value of $r^2$?\n",
    "#\n",
    "# 2) What is the direction of the relationship?\n",
    "#\n",
    "# 3) What proportion of variance in one variable is explained by the other?\n",
    "#\n",
    "# 4) Are these results what would be expected clinically? Why / why not?\n",
    "#"
   ]
  },
  {
   "cell_type": "code",
   "execution_count": null,
   "metadata": {},
   "outputs": [],
   "source": [
    "# combination 2\n",
    "# 1) What is the strength of the correlation coefficient? What is the value of $r^2$?\n",
    "#\n",
    "# 2) What is the direction of the relationship?\n",
    "#\n",
    "# 3) What proportion of variance in one variable is explained by the other?\n",
    "#\n",
    "# 4) Are these results what would be expected clinically? Why / why not?\n",
    "#"
   ]
  },
  {
   "cell_type": "code",
   "execution_count": null,
   "metadata": {},
   "outputs": [],
   "source": [
    "# combination 3\n",
    "# 1) What is the strength of the correlation coefficient? What is the value of $r^2$?\n",
    "#\n",
    "# 2) What is the direction of the relationship?\n",
    "#\n",
    "# 3) What proportion of variance in one variable is explained by the other?\n",
    "#\n",
    "# 4) Are these results what would be expected clinically? Why / why not?\n",
    "#"
   ]
  },
  {
   "cell_type": "markdown",
   "metadata": {},
   "source": [
    "### 1.1. Create a scatterplot of two variables\n",
    "\n",
    "In the interactive scatterplot below you can select different pairs of variables and see the resulting points drawn on the plot, along with the correlation coefficient between the variables and p-value.\n",
    "\n",
    "The tables below show the variables that you can select and provide a brief description of each one. There are five types of variables: **demographics**, **timing**, **vital signs**, **lab values** and **scores**."
   ]
  },
  {
   "cell_type": "markdown",
   "metadata": {},
   "source": [
    "### Numerical demographic variables\n",
    "\n",
    "| Variable Name              | Description                                    |\n",
    "|----------------------------|------------------------------------------------|\n",
    "| age                        | Age of the patient in years                    |\n",
    "\n",
    "---\n",
    "\n",
    "### Time variables\n",
    "\n",
    "| Variable Name              | Description                                    |\n",
    "|----------------------------|------------------------------------------------|\n",
    "| icustay_los                | Length of ICU stay (in minutes)                   |\n",
    "| extub_time                 | Time of extubation (removal of breathing tube) |\n",
    "| time_elapsed_seconds       | Time elapsed in seconds  |\n",
    "\n",
    "---\n",
    "\n",
    "### Vital Sign\n",
    "\n",
    "| Variable Name              | Description                                    |\n",
    "|----------------------------|------------------------------------------------|\n",
    "| first_heart_rate           | First recorded value of an ICU patient's heart rate|\n",
    "| first_resp_rate            | First recorded value of an ICU patient's respiratory rate|\n",
    "| mean_Heart Rate            | Average heart rate during observation period   |\n",
    "| mean_Respiratory Rate      | Average respiratory rate during observation period |\n",
    "| mean_FiO2 Set              | Average fraction of inspired oxygen set        |\n",
    "| FiO2_Set                   | Fraction of inspired oxygen at set point       |\n",
    "| Tidal Volume (Obser)       | Observed tidal volume during ventilation       |\n",
    "| Arterial BP Mean           | Mean arterial blood pressure                   |\n",
    "\n",
    "---\n",
    "\n",
    "### Lab Values\n",
    "\n",
    "| Variable Name              | Description                                    |\n",
    "|----------------------------|------------------------------------------------|\n",
    "| Albumin (>3.2)             | Serum albumin level, with >3.2 g/dL threshold  |\n",
    "| Arterial pH                | pH level of arterial blood                     |\n",
    "| Creatinine (0-1.3)         | Serum creatinine level, with normal range 0-1.3 mg/dL |\n",
    "| hgb                        | Hemoglobin level                               |\n",
    "| PaO2                       | Partial pressure of oxygen in arterial blood   |\n",
    "| PaCO2                      | Partial pressure of carbon dioxide in arterial blood |\n",
    "| WBC                        | White blood cell count                         |\n",
    "\n",
    "---\n",
    "\n",
    "### Clinical scores\n",
    "\n",
    "| Variable Name              | Description                                    |\n",
    "|----------------------------|------------------------------------------------|\n",
    "| elixhauser_score           | Comorbidity score based on the Elixhauser index |\n",
    "| Respiratory SOFA Score     | Respiratory component of SOFA score            |\n",
    "| Overall SOFA Score         | Total SOFA score across all components         |\n"
   ]
  },
  {
   "cell_type": "code",
   "execution_count": 11,
   "metadata": {},
   "outputs": [],
   "source": [
    "# Load the data\n",
    "df = pd.read_csv(\"ext_data.csv\").loc[:, cols]"
   ]
  },
  {
   "cell_type": "code",
   "execution_count": null,
   "metadata": {},
   "outputs": [],
   "source": [
    "# create the interactive scatter plot\n",
    "interact(scatter_plot,\n",
    "         dataset=widgets.fixed(df),\n",
    "         x_var=widgets.Dropdown(options=df.columns, value='first_heart_rate', description=\"X Variable\"),\n",
    "         y_var=widgets.Dropdown(options=df.columns, value='first_resp_rate', description=\"Y Variable\"))\n",
    "plt.show()"
   ]
  },
  {
   "cell_type": "markdown",
   "metadata": {},
   "source": [
    "# Activity 2: Line of best fit\n",
    "\n",
    "Now we're going to start fitting linear models to the data. We will begin by experimenting with different values of the gradient and intercept. We will do this for `first heart rate` vs `first respiratory rate`. These are the first recorded values of these variables for each patient. \n",
    "\n",
    "While this may not be a particularly interesting or surprising relationship, linear models can be fit to any numerical clinical variable. They helps us to quantify how an output variable changes when the input variable changes.\n",
    "\n",
    "The interactive plot has two sliders that allow you to select different values for the intercept and gradient and see what the resulting linear model looks like. The chart also shows the $r^2$ and Mean Squared Error (MSE). You should be able to see the effect the different values of the gradient and intercept have on $r^2$ and MSE.\n",
    "\n",
    "**For this activity, please answer the following questions**\n",
    "\n",
    "Experiment with different values of the gradient and intercept and record three sets of (gradient, intercept) values\n",
    "1) What is the value of $r^2$?\n",
    "2) What is the MSE?\n",
    "3) How can you interpret the intercept (slope)?\n",
    "\n",
    "Can you find a set of parameter values that gives the smallest MSE (and the largest $r^2$)"
   ]
  },
  {
   "cell_type": "code",
   "execution_count": null,
   "metadata": {},
   "outputs": [],
   "source": [
    "# 1) What is the value of $r^2$?\n",
    "#\n",
    "# 2) What is the MSE?\n",
    "#\n",
    "# 3) How can you interpret the intercept (slope)?\n",
    "#\n",
    "# Can you find a set of parameter values that gives the smallest MSE (and the largest $r^2$)\n",
    "#"
   ]
  },
  {
   "cell_type": "markdown",
   "metadata": {},
   "source": [
    "### 2.1. Create a scatterplot and adjustable regression line"
   ]
  },
  {
   "cell_type": "markdown",
   "metadata": {},
   "source": [
    "Running the code below produces a scatter plot along with an adjustable line of best fit. Changing the intercept and slope changes the resulting linear model, allowing you to see the effect this has on the Mean Squared Error and $r^2$.\n",
    "\n",
    "You will notice that the $r^2$ can in some cases be negative here. This occurs when the model is worse at predicting the respiratory rate than simple taking the average respiratory rate. For the best-fitting line, the $r^2$ is equal to the square of the correlation coefficient, as was defined previously."
   ]
  },
  {
   "cell_type": "code",
   "execution_count": 14,
   "metadata": {},
   "outputs": [],
   "source": [
    "df = pd.read_csv(\"ext_data.csv\").loc[:, ['first_heart_rate', 'first_resp_rate']].dropna()"
   ]
  },
  {
   "cell_type": "code",
   "execution_count": null,
   "metadata": {},
   "outputs": [],
   "source": [
    "interact(plot_linear_regression, \n",
    "         df=fixed(df), x_variable=fixed(\"first_heart_rate\"), y_variable=fixed(\"first_resp_rate\"),\n",
    "         x_min=fixed(0), x_max=fixed(250), y_min=fixed(0), y_max=fixed(100), \n",
    "         num_points=fixed(1000), intercept=(10, 15.2, 0.0011), slope=(0.001, 0.3, 0.001));"
   ]
  },
  {
   "cell_type": "markdown",
   "metadata": {},
   "source": [
    "## 2.2. Find the model that has the smallest Mean Squared Error (MSE)\n",
    "\n",
    "Now run the following code to see the results where the line of best fit has been identified by minimising the mean of the square root of each tidal volume predicted from respiratory rate compared to each observed tidal volume. \n",
    "\n",
    "**Answer the following:**\n",
    "- What are the values of $r^2$ and MSE for the optimal choice of intercept and gradient?\n",
    "- What are the corresponding values of the gradient and intercept? How can these be interpreted? "
   ]
  },
  {
   "cell_type": "code",
   "execution_count": 17,
   "metadata": {},
   "outputs": [],
   "source": [
    "# What are the values of $r^2$ and MSE for the optimal choice of intercept and gradient?\n",
    "#\n",
    "# What are the corresponding values of the gradient and intercept? How can these be interpreted? \n",
    "#"
   ]
  },
  {
   "cell_type": "code",
   "execution_count": 18,
   "metadata": {},
   "outputs": [],
   "source": [
    "X, y = zip(*\n",
    "           pd.read_csv(\"ext_data.csv\")\n",
    "           .loc[:, [\"first_heart_rate\", \"first_resp_rate\"]]\n",
    "           .dropna()\n",
    "           .values\n",
    "          )\n",
    "\n",
    "X, y = np.array(X).reshape(-1, 1), np.array(y)"
   ]
  },
  {
   "cell_type": "code",
   "execution_count": 19,
   "metadata": {},
   "outputs": [],
   "source": [
    "# Create and fit the linear regression model\n",
    "model = LinearRegression()\n",
    "model.fit(X, y)\n",
    "\n",
    "# optimal values of gradient and intercept\n",
    "intercept, gradient = model.intercept_, model.coef_[0]\n",
    "\n",
    "# Make predictions\n",
    "y_pred = model.predict(X)\n",
    "\n",
    "# Calculate metrics\n",
    "mse = np.round(mean_squared_error(y, y_pred), 3)\n",
    "r2 = np.round(r2_score(y, y_pred), 3)\n",
    "\n",
    "# the intercept and gradient for the line of best fit\n",
    "gradient_best, intercept_best = np.round(model.coef_[0], 2), np.round(model.intercept_, 2)\n",
    "\n",
    "# text to display in title of scatterplot\n",
    "title_text = f'{\"first_heart_rate\"} vs {\"first_resp_rate\"}\\ny = {gradient_best}x + {intercept_best}\\nMSE = {mse}\\n$r^2$ = {r2}\\ngradient: {gradient_best}\\nintercept: {intercept_best}'"
   ]
  },
  {
   "cell_type": "code",
   "execution_count": null,
   "metadata": {},
   "outputs": [],
   "source": [
    "# Create the scatter plot with regression line\n",
    "plt.figure(figsize=(6, 4))\n",
    "plt.scatter(X, y, alpha=0.5)\n",
    "plt.plot(X, y_pred, color='red', label='Regression Line')\n",
    "plt.title(title_text)\n",
    "plt.xlabel(\"first_heart_rate (beats per minute)\")\n",
    "plt.ylabel(\"first_resp_rate (breaths per minute)\")\n",
    "plt.legend()\n",
    "plt.grid(True, linestyle='--', alpha=0.7)\n",
    "plt.show()"
   ]
  },
  {
   "cell_type": "markdown",
   "metadata": {},
   "source": [
    "# Activity 3: Multiple linear regression\n",
    "\n",
    "Now that you understand better how MSE, $r^2$ change when fitting a linear regression model we will apply linear regression to the following problem:\n",
    "\n",
    "> Activity 3 goal: Predict the length of time that a patient is intubated for\n",
    "\n",
    "In the module we touched on the idea of multivariable regression models, which extend simple linear regression by including additional variables. This is partly what makes linear regression such a powerful technique, as you can include as many variables as you like, which provides the model with a larger and more diverse amount of information to draw upon when making predictions.\n",
    "\n",
    "There are some important caveats here:\n",
    "1. With each additional predictor, the proportion of the variance explained by the predictors (i.e., the $r^2$ value) should increase\n",
    "2. A model that predicts the outcome perfectly is not always useful, as this will not necessarily perform well with a new sample. We will cover this in more detail in the next module\n",
    "3. A 'good' model should find a balance between the number of predictors and the value that each one brings in explaining the outcome\n",
    "\n",
    "**Answer the following in your worksheet:**\n",
    "For each set of variables record the following\n",
    "- The value of MSE and $r^2$\n",
    "- Possible reasons why different variables may contribute to the change in these values\n",
    "   \n",
    "### Choice of variables\n",
    "\n",
    "We will consider a few different combinations of variables to understand the effect that inclusion of additional variables has on the predictive accuracy of the model.\n",
    "\n",
    "| Model | Variable |\n",
    "| --- | --- |\n",
    "| 1 | hgb |\n",
    "| 2 | hgb |\n",
    "|  | Respiratory SOFA Score |\n",
    "| 3 | hgb |\n",
    "|  | Respiratory SOFA Score |\n",
    "| | age |\n",
    "| 4 | hgb |\n",
    "|  | Respiratory SOFA Score |\n",
    "| | age |\n",
    "| | mean_Respiratory Rate |\n",
    "| | PaCO2 |\n",
    "| | Overall SOFA Score |\n",
    "| | PaO2 |\n",
    "| | WBC |\n",
    "| | Albumin (>3.2) |\n",
    "| | mean_FiO2 Set |\n",
    "| 5 | hgb |\n",
    "|  | Respiratory SOFA Score |\n",
    "| | age |\n",
    "| | mean_Respiratory Rate |\n",
    "| | PaCO2 |\n",
    "| | Overall SOFA Score |\n",
    "| | PaO2 |\n",
    "| | WBC |\n",
    "| | Albumin (>3.2) |\n",
    "| | mean_FiO2 Set |\n",
    "| | icustay_los |"
   ]
  },
  {
   "cell_type": "code",
   "execution_count": 21,
   "metadata": {},
   "outputs": [],
   "source": [
    "# load the data with all the required vairables\n",
    "variables_full = ['hgb', \n",
    "                  'Respiratory SOFA Score',\n",
    "                  'age',\n",
    "                  'first_resp_rate', \n",
    "                  'PaCO2',\n",
    "                  'WBC', \n",
    "                  'Albumin (>3.2)', \n",
    "                  'mean_FiO2 Set', \n",
    "                  'icustay_los']\n",
    "\n",
    "data = (\n",
    "    pd.read_csv('ext_data.csv')\n",
    "    .loc[:, variables_full + ['time_elapsed_seconds']]\n",
    "    .assign(time_elapsed_hours=lambda df_: df_.time_elapsed_seconds / 3600)\n",
    "    .dropna()\n",
    ")"
   ]
  },
  {
   "cell_type": "markdown",
   "metadata": {},
   "source": [
    "# Activity 3: Multiple linear regression and predicting the duration of intubation\n",
    "\n",
    "In this final activity we aim to train a model to predict the duration that a patient is intubated for. We will do this by including different combinations of variables. Unlike in the previous activities, this time we will include more than one predictor (or input) variable, allowing the model to use more information to make predictions.\n",
    "\n",
    "In each of these activities you will look at different sets of variables and see the effect that including different types (and numbers) of variables has on the goodness of fit of the model.\n",
    "\n",
    "**For each of the sets of variables record the following**\n",
    "\n",
    "1) What is the Mean Squared Error?\n",
    "2) What is the $R^2$?\n",
    "3) Whether you would expect the inclusion of these variables to be suitable for predicting the duration of intubation"
   ]
  },
  {
   "cell_type": "markdown",
   "metadata": {},
   "source": [
    "## 3.1. First set of variables: haemglobin\n",
    "\n",
    "Run the following code, and then go to your group worksheet "
   ]
  },
  {
   "cell_type": "code",
   "execution_count": 22,
   "metadata": {},
   "outputs": [],
   "source": [
    "variables1 = ['hgb']"
   ]
  },
  {
   "cell_type": "code",
   "execution_count": 23,
   "metadata": {},
   "outputs": [],
   "source": [
    "# Prepare the features (X) and target variable (y)\n",
    "X = data.loc[:, variables1].values\n",
    "y = data.loc[:, 'time_elapsed_hours'].values\n",
    "\n",
    "# Create and fit the linear regression model\n",
    "model = LinearRegression()\n",
    "model.fit(X, y)\n",
    "\n",
    "# Make predictions\n",
    "y_pred = model.predict(X)"
   ]
  },
  {
   "cell_type": "code",
   "execution_count": null,
   "metadata": {},
   "outputs": [],
   "source": [
    "# calculate the mean squared error and the r2\n",
    "mse = np.round(mean_squared_error(y, y_pred), 3)\n",
    "r2 = np.round(r2_score(y, y_pred), 3)\n",
    "\n",
    "print(f\"MSE: {mse}\\nR^2: {r2}\")"
   ]
  },
  {
   "cell_type": "code",
   "execution_count": null,
   "metadata": {},
   "outputs": [],
   "source": [
    "# 1) What is the Mean Squared Error?\n",
    "#\n",
    "# 2) What is the $R^2$?\n",
    "#\n",
    "# 3) Whether you would expect the inclusion of these variables to be suitable for predicting the duration of intubation\n",
    "#"
   ]
  },
  {
   "cell_type": "markdown",
   "metadata": {},
   "source": [
    "## 3.2. Second set of variables\n",
    "\n",
    "Now we will include some additional variables so we will use the following in our set\n",
    "- Haemoglobin\n",
    "- Respiratory SOFA Score"
   ]
  },
  {
   "cell_type": "code",
   "execution_count": 25,
   "metadata": {},
   "outputs": [],
   "source": [
    "variables2 = ['hgb', 'Respiratory SOFA Score']"
   ]
  },
  {
   "cell_type": "code",
   "execution_count": 26,
   "metadata": {},
   "outputs": [],
   "source": [
    "# Prepare the features / variables (X) and target variable (y)\n",
    "X = data.loc[:, variables2].values\n",
    "y = data.loc[:, 'time_elapsed_hours'].values\n",
    "\n",
    "# Create and fit the linear regression model\n",
    "model = LinearRegression()\n",
    "model.fit(X, y)\n",
    "\n",
    "# Make predictions\n",
    "y_pred = model.predict(X)"
   ]
  },
  {
   "cell_type": "code",
   "execution_count": null,
   "metadata": {},
   "outputs": [],
   "source": [
    "# calculate the mean squared error and the r2\n",
    "mse = np.round(mean_squared_error(y, y_pred), 3)\n",
    "r2 = np.round(r2_score(y, y_pred), 3)\n",
    "\n",
    "print(f\"MSE: {mse}\\nR^2: {r2}\")"
   ]
  },
  {
   "cell_type": "code",
   "execution_count": null,
   "metadata": {},
   "outputs": [],
   "source": [
    "# 1) What is the Mean Squared Error?\n",
    "#\n",
    "# 2) What is the $R^2$?\n",
    "#\n",
    "# 3) Whether you would expect the inclusion of these variables to be suitable for predicting the duration of intubation\n",
    "#"
   ]
  },
  {
   "cell_type": "markdown",
   "metadata": {},
   "source": [
    "## 3.3. Third set of variables\n",
    "\n",
    "Let's see what the effect of including demographic variables is. We will include age:\n",
    "\n",
    "- Haemoglobin\n",
    "- Respiratory SOFA Score\n",
    "- Age"
   ]
  },
  {
   "cell_type": "code",
   "execution_count": 28,
   "metadata": {},
   "outputs": [],
   "source": [
    "variables3 = ['hgb', \n",
    "              'Respiratory SOFA Score',\n",
    "              'age']"
   ]
  },
  {
   "cell_type": "code",
   "execution_count": 29,
   "metadata": {},
   "outputs": [],
   "source": [
    "# Prepare the features / variables (X) and target variable (y)\n",
    "X = data.loc[:, variables3].values\n",
    "y = data.loc[:, 'time_elapsed_hours'].values\n",
    "\n",
    "# Create and fit the linear regression model\n",
    "model = LinearRegression()\n",
    "model.fit(X, y)\n",
    "\n",
    "# Make predictions\n",
    "y_pred = model.predict(X)"
   ]
  },
  {
   "cell_type": "code",
   "execution_count": null,
   "metadata": {},
   "outputs": [],
   "source": [
    "# calculate the mean squared error and the r2\n",
    "mse = np.round(mean_squared_error(y, y_pred), 3)\n",
    "r2 = np.round(r2_score(y, y_pred), 3)\n",
    "\n",
    "print(f\"MSE: {mse}\\nR^2: {r2}\")"
   ]
  },
  {
   "cell_type": "code",
   "execution_count": null,
   "metadata": {},
   "outputs": [],
   "source": [
    "# 1) What is the Mean Squared Error?\n",
    "#\n",
    "# 2) What is the $R^2$?\n",
    "#\n",
    "# 3) Whether you would expect the inclusion of these variables to be suitable for predicting the duration of intubation\n",
    "#"
   ]
  },
  {
   "cell_type": "markdown",
   "metadata": {},
   "source": [
    "## 3.4. Fourth set of variables\n",
    "\n",
    "Let's see what happens when include a large number of variables as shown below. \n",
    "\n",
    "- hgb\n",
    "- Respiratory SOFA Score\n",
    "- age\n",
    "- first_resp_rate\n",
    "- PaCO2\n",
    "- WBC\n",
    "- Albumin (>3.2)\n",
    "- mean_FiO2 Set"
   ]
  },
  {
   "cell_type": "code",
   "execution_count": 31,
   "metadata": {},
   "outputs": [],
   "source": [
    "variables4 = ['hgb', \n",
    "              'Respiratory SOFA Score',\n",
    "              'age',\n",
    "              'first_resp_rate', \n",
    "              'PaCO2',\n",
    "              'WBC', \n",
    "              'Albumin (>3.2)', \n",
    "              'mean_FiO2 Set']"
   ]
  },
  {
   "cell_type": "code",
   "execution_count": 32,
   "metadata": {},
   "outputs": [],
   "source": [
    "# Prepare the features / variables (X) and target variable (y)\n",
    "X = data.loc[:, variables4].values\n",
    "y = data.loc[:, 'time_elapsed_hours'].values\n",
    "\n",
    "# Create and fit the linear regression model\n",
    "model = LinearRegression()\n",
    "model.fit(X, y)\n",
    "\n",
    "# Make predictions\n",
    "y_pred = model.predict(X)"
   ]
  },
  {
   "cell_type": "code",
   "execution_count": null,
   "metadata": {},
   "outputs": [],
   "source": [
    "# calculate the mean squared error and the r2\n",
    "mse = np.round(mean_squared_error(y, y_pred), 3)\n",
    "r2 = np.round(r2_score(y, y_pred), 3)\n",
    "\n",
    "print(f\"MSE: {mse}\\nR^2: {r2}\")"
   ]
  },
  {
   "cell_type": "code",
   "execution_count": null,
   "metadata": {},
   "outputs": [],
   "source": [
    "# 1) What is the Mean Squared Error?\n",
    "#\n",
    "# 2) What is the $R^2$?\n",
    "#\n",
    "# 3) Whether you would expect the inclusion of these variables to be suitable for predicting the duration of intubation\n",
    "#"
   ]
  },
  {
   "cell_type": "markdown",
   "metadata": {},
   "source": [
    "## 3.5. Fifth set of variables\n",
    "\n",
    "Now we will include an additional variable, `icustay_los`, to see how this improves the performance"
   ]
  },
  {
   "cell_type": "code",
   "execution_count": 34,
   "metadata": {},
   "outputs": [],
   "source": [
    "variables5 = ['hgb', \n",
    "              'Respiratory SOFA Score',\n",
    "              'age',\n",
    "              'first_resp_rate', \n",
    "              'PaCO2',\n",
    "              'WBC', \n",
    "              'Albumin (>3.2)', \n",
    "              'mean_FiO2 Set', \n",
    "              'icustay_los']"
   ]
  },
  {
   "cell_type": "code",
   "execution_count": 35,
   "metadata": {},
   "outputs": [],
   "source": [
    "# Prepare the features / variables (X) and target variable (y)\n",
    "X = data.loc[:, variables5].values\n",
    "y = data.loc[:, 'time_elapsed_hours'].values\n",
    "\n",
    "# Create and fit the linear regression model\n",
    "model = LinearRegression()\n",
    "model.fit(X, y)\n",
    "\n",
    "# Make predictions\n",
    "y_pred = model.predict(X)"
   ]
  },
  {
   "cell_type": "code",
   "execution_count": null,
   "metadata": {},
   "outputs": [],
   "source": [
    "# calculate the mean squared error and the r2\n",
    "mse = np.round(mean_squared_error(y, y_pred), 3)\n",
    "r2 = np.round(r2_score(y, y_pred), 3)\n",
    "\n",
    "print(f\"MSE: {mse}\\nr^2: {r2}\")"
   ]
  },
  {
   "cell_type": "code",
   "execution_count": null,
   "metadata": {},
   "outputs": [],
   "source": [
    "# 1) What is the Mean Squared Error?\n",
    "#\n",
    "# 2) What is the $R^2$?\n",
    "#\n",
    "# 3) Whether you would expect the inclusion of these variables to be suitable for predicting the duration of intubation\n",
    "#"
   ]
  },
  {
   "cell_type": "markdown",
   "metadata": {},
   "source": [
    "Why do you think that the inclusion of this variable `icustay_los` results in such a dramatic improvement in model fit?"
   ]
  }
 ],
 "metadata": {
  "colab": {
   "provenance": []
  },
  "kernelspec": {
   "display_name": "thda",
   "language": "python",
   "name": "thda"
  },
  "language_info": {
   "codemirror_mode": {
    "name": "ipython",
    "version": 3
   },
   "file_extension": ".py",
   "mimetype": "text/x-python",
   "name": "python",
   "nbconvert_exporter": "python",
   "pygments_lexer": "ipython3",
   "version": "3.13.1"
  }
 },
 "nbformat": 4,
 "nbformat_minor": 4
}
