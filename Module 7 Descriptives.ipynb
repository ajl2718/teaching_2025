{
 "cells": [
  {
   "cell_type": "markdown",
   "id": "acb2d14d-2a07-447c-8b1f-d47a1578d97e",
   "metadata": {},
   "source": [
    "# Transforming Healthcare with Data Analytics and AI\n",
    "\n",
    "---\n",
    "## Module 7 Descriptives\n",
    "\n",
    "This week we learned about different variable types and how to summarise these. We also learned how to visualise simple relationships between different types of variables, and run simple analyses to test for differences across groups. \n",
    "\n",
    "Now we're going to apply the techniques learned in this module to data from the MIMIC II clinical database, focusing on the authentic failed extubation example we initiated with the digital phenotypes last week. \n",
    "\n",
    "## Extubation status question\n",
    "As you will have just discussed, the goal of these few weeks is to see if we can predict extubation status. In this Descriptives class, we will do some preliminary analyses to see if any of our variables appear to relate to extubation status, and we will get to know our sample. \n",
    "\n",
    "### Learning objectives\n",
    "By the end of this class, you will be able to:\n",
    "1. Be able to summarise and visualise variables by variable type; that is:\n",
    "2. Review and summarise categorical variables to describe your sample\n",
    "3. Summarise numeric variables according to distribution\n",
    "4. Compare numeric variables by group/categorical variable\n",
    "5. Interpret scatterplots and know when they are useful\n",
    "\n",
    "### Pre-class activities\n",
    "This class is written with the assumption that **you have already**: \n",
    "- **Completed the reading and exercises** on variable types (categorical, Boolean, continuous etc). \n",
    "- **Familiarised yourself with the MIMIC II data** and the data dictionary for the table we will use today (ext_data).\n",
    "- **Familiarised yourself with Jupyter notebooks**\n",
    "\n",
    "### Activities\n",
    "There are five activities in this notebook, which you will complete during the classes:\n",
    "* Activity 1 Visualise categorical variables\n",
    "* Activity 2 Summarise categorical variables\n",
    "* Activity 3 Summarise numeric variables\n",
    "* Demo Introducing Scatterplots\n",
    "\n",
    "### How to use this notebook\n",
    "\n",
    "Go the 'Run' menu, then scroll down to 'Run all cells' and click this - this will run all cells! \n",
    "\n",
    "If you want to re-run any cell, click in the cell, and then click `Ctrl + Enter` to run the cell.\n",
    "\n",
    "You will occasionally be asked to modify some small bits of text within the code, and select variables from some drop-down widgets to automatically re-run some code. You do not need to know how to code in order to do this successfully.\n",
    "\n",
    "You are not expected to understand the Python code, or to be able to write Python code. It is made available for students who are interested. \n"
   ]
  },
  {
   "cell_type": "markdown",
   "id": "e5b9f338-e5fa-4da7-8a5d-5326ffd39a99",
   "metadata": {},
   "source": [
    "# Introducing the MIMIC II data base and the extracted data set\n",
    "\n",
    "We are using a smaller data set (called **ext_data.csv**), extracted from MIMIC 2. \n",
    "\n",
    "**Each row** in the data set **comprises**: \n",
    "\n",
    "- **One patient**, starting with their unique `subject_id`\n",
    "  \n",
    "- A unique `icustay_id` (if a patient attended the ICU more than once, they will have more than one row in the data - one row per unique `icustay_id`)\n",
    "  \n",
    "- Demographic data and `admission_type_descr` (elective, emergency or urgent admission)\n",
    "- Comorbidities, clinical observations and some intubation details\n",
    "  \n",
    "You should be familiar with these variables from the data dictionary: `Data dictionary ext_data`"
   ]
  },
  {
   "cell_type": "markdown",
   "id": "e0dea496-de62-4233-b6d3-88311c342edd",
   "metadata": {},
   "source": [
    "# Configure notebook and import Python packages\n",
    "This section installs and imports the relevant Python packages and configures the notebook."
   ]
  },
  {
   "cell_type": "markdown",
   "id": "3f28dda5-4e0f-4978-822c-cc6c97447e0f",
   "metadata": {},
   "source": [
    "Now these libraries are installed, import them into this session by running the cell below."
   ]
  },
  {
   "cell_type": "code",
   "execution_count": null,
   "id": "ec5b02e3-94b9-4236-9b43-b82c207ad24b",
   "metadata": {},
   "outputs": [],
   "source": [
    "# Import your utilities and all necessary modules\n",
    "from d2k_utils_mod8 import *\n",
    "from ipywidgets import interact, widgets\n",
    "from IPython.display import display\n",
    "from scipy.stats import fisher_exact  \n",
    "\n",
    "# Set pandas display options\n",
    "pd.set_option('display.max_columns', None)\n",
    "pd.set_option('display.width', None)\n",
    "pd.set_option('display.max_colwidth', None)\n",
    "pd.set_option('display.max_rows', None)\n",
    "sns.set()\n",
    "%matplotlib inline"
   ]
  },
  {
   "cell_type": "markdown",
   "id": "3dce01f5-2df6-4135-ba19-461254e1a5ba",
   "metadata": {},
   "source": [
    "# Show the variables for the first few patients"
   ]
  },
  {
   "cell_type": "code",
   "execution_count": null,
   "id": "19b832d2-3a34-4f15-8292-07b7a1dba5b4",
   "metadata": {},
   "outputs": [],
   "source": [
    "# Import the data\n",
    "df = load_data(\"ext_data.csv\")\n",
    "\n",
    "# Print the first five rows\n",
    "df.head()"
   ]
  },
  {
   "cell_type": "markdown",
   "id": "264efafe-9ac2-4fee-a063-b8be31fd9a73",
   "metadata": {},
   "source": [
    "# Activity 1: Visualise categorical variables\n",
    "Using the table above, which variables would you need to be able to describe the patients in your sample?"
   ]
  },
  {
   "cell_type": "markdown",
   "id": "bd086b4c-42fa-4f9e-b5bd-3656cbbffb09",
   "metadata": {},
   "source": [
    "## 1.1 Visualise categorical variables using bar charts\n",
    "\n",
    "Other than age, the variables to describe your sample are categorical. \n",
    "\n",
    "To visualise categorical variables, produce bar charts."
   ]
  },
  {
   "cell_type": "code",
   "execution_count": null,
   "id": "05de6954-9906-4a9d-addb-f1da623e24ab",
   "metadata": {},
   "outputs": [],
   "source": [
    "# Categorical variables\n",
    "categorical_variables = ['sex', 'marital_status_descr', 'ethnicity_descr', 'admission_type_descr', 'congestive_heart_failure', 'chronic_pulmonary']\n",
    "\n",
    "# Create bar charts\n",
    "for var in categorical_variables:\n",
    "    create_bar_chart(var)"
   ]
  },
  {
   "cell_type": "markdown",
   "id": "c75bd4cd-6fcc-4a91-bae3-9f33e6444b7e",
   "metadata": {},
   "source": [
    "## 1.2 Combine small categories, and recreate bar charts\n",
    "\n",
    "You will see many categories are very small. These are usually combined into 'Other'.\n",
    "\n",
    "In your group, update the code below to decide how to combine the categories in each variable (**rename the category on the right**). \n",
    "\n",
    "eg:\n",
    "```\n",
    "data['marital_status_descr'] = data['marital_status_descr'].replace({\n",
    "    'MARRIED': 'MARRIED',\n",
    "    'SEPARATED': 'SEPARATED/DIVORCED',\n",
    "    'DIVORCED': 'SEPARATED/DIVORCED',\n",
    "    'SINGLE' : 'SINGLE',\n",
    "    'WIDOWED' : 'WIDOWED',\n",
    "    'UNKNOWN (DEFAULT)': None \n",
    "})\n",
    "```\n",
    "\n",
    "eg:\n",
    "```\n",
    "data['marital_status_descr'] = data['marital_status_descr'].replace({\n",
    "    'MARRIED': 'MARRIED',\n",
    "    'SEPARATED': 'NOT MARRIED/WIDOWED',\n",
    "    'DIVORCED': 'NOT MARRIED/WIDOWED',\n",
    "    'SINGLE' : 'NOT MARRIED/WIDOWED',\n",
    "    'WIDOWED' : 'NOT MARRIED/WIDOWED',\n",
    "    'UNKNOWN (DEFAULT)': None \n",
    "})\n",
    "```\n",
    "\n",
    "Any **categories** you would like to **drop** altogether, type `none` instead of a category name on the right-hand side of the colon **eg `'NOT SPECIFIED': None`**\n",
    "\n",
    "**Re-run the code (press Ctrl + Enter).** This will create a new data set called **ext_categ.csv**, which is used in subsequent code beloq examining demographics."
   ]
  },
  {
   "cell_type": "code",
   "execution_count": null,
   "id": "606116a2-bbb9-4c2f-89fe-aa4fbe30763e",
   "metadata": {},
   "outputs": [],
   "source": [
    "# Modify admission_type_descr\n",
    "df['admission_type_descr'] = df['admission_type_descr'].replace({    \n",
    "    'ELECTIVE': 'ELECTIVE',\n",
    "    'EMERGENCY': 'EMERGENCY',\n",
    "    'URGENT': 'URGENT'\n",
    "})\n",
    "\n",
    "# Modify marital_status_descr\n",
    "df['marital_status_descr'] = df['marital_status_descr'].replace({\n",
    "    'MARRIED' : 'MARRIED',\n",
    "    'SEPARATED': 'SEPARATED',\n",
    "    'DIVORCED': 'DIVORCED',\n",
    "    'SINGLE' : 'SINGLE',\n",
    "    'WIDOWED' : 'WIDOWED',\n",
    "    'UNKNOWN (DEFAULT)' : 'UNKNOWN (DEFAULT)'\n",
    "})\n",
    "\n",
    "# Modify ethnicity_descr\n",
    "df['ethnicity_descr'] = df['ethnicity_descr'].replace({\n",
    "    'WHITE' : 'WHITE',\n",
    "    'ASIAN': 'ASIAN',\n",
    "    'ASIAN - CHINESE': 'ASIAN - CHINESE',\n",
    "    'BLACK/CAPE VERDEAN': 'BLACK/CAPE VERDEAN',\n",
    "    'BLACK/AFRICAN AMERICAN': 'BLACK/AFRICAN AMERICAN',\n",
    "    'AMERICAN INDIAN/ALASKA NATIVE': 'AMERICAN INDIAN/ALASKA NATIVE',\n",
    "    'MULTI RACE ETHNICITY': 'MULTI RACE ETHNICITY',\n",
    "    'HISPANIC OR LATINO': 'HISPANIC OR LATINO',\n",
    "    'OTHER' : 'OTHER',\n",
    "    'PATIENT DECLINED TO ANSWER': 'PATIENT DECLINED TO ANSWER',\n",
    "    'UNKNOWN/NOT SPECIFIED': 'UNKNOWN/NOT SPECIFIED',\n",
    "    'UNABLE TO OBTAIN': 'UNABLE TO OBTAIN'\n",
    "})\n",
    "\n",
    "# Optional: Save the cleaned data\n",
    "df.to_csv('ext_categ.csv', index=False)\n",
    "print(\"Cleaned dataset saved as 'ext_categ.csv'\")\n",
    "\n",
    "# Load the cleaned data\n",
    "df = load_data(\"ext_categ.csv\")\n",
    "\n",
    "# Categorical variables\n",
    "categorical_variables = ['sex', 'marital_status_descr', 'ethnicity_descr', 'admission_type_descr', 'congestive_heart_failure', 'chronic_pulmonary']\n",
    "\n",
    "# Create bar charts for each categorical variable\n",
    "for var in categorical_variables:\n",
    "    create_bar_chart(var)  # Using global df, so we don't need to pass df"
   ]
  },
  {
   "cell_type": "markdown",
   "id": "f6b247b6-d4f6-4dcd-9b8b-c2418a661b0d",
   "metadata": {},
   "source": [
    "# Activity 2: Summarise categorical variables by extubation status"
   ]
  },
  {
   "cell_type": "markdown",
   "id": "1a7266e8-8545-4ada-925b-37458100ac9d",
   "metadata": {},
   "source": [
    "## 2.1 Are failed and successful extubation groups the same? Examine differences in demographic characteristics by extubation status\n",
    "**Re-run the cell below (press `Ctrl + Enter`)** to produce tables summarising each key variables by extubation status, and the whole sample.\n",
    "\n",
    "It also provides a p-value to indicate whether the distribution of the variable differs sufficiently by extubation status to conclude that there is a difference in the population.\n",
    "\n",
    "## Go to your group worksheet\n",
    "Review the results below, and then go to your group worksheet to: \n",
    "- Complete as much as you can of Table 1a and the associated paragraph describing the sample\n",
    "- Add an * next to each significant demographic variable in the table in the worksheet, and add a footnote underneath the table explaining this asterisk (ie '*p <.05)'."
   ]
  },
  {
   "cell_type": "code",
   "execution_count": null,
   "id": "a56b8528-ded6-4cb0-86c0-2c110e90dfac",
   "metadata": {},
   "outputs": [],
   "source": [
    "# List of variables to analyze\n",
    "variables = ['sex', 'marital_status_descr', 'ethnicity_descr', 'admission_type_descr', \n",
    "            'congestive_heart_failure', 'chronic_pulmonary']\n",
    "\n",
    "# Display values\n",
    "for var in variables:\n",
    "    print(f\"\\nAnalysis of {var}:\")\n",
    "    \n",
    "    # Create the crosstab and get statistics\n",
    "    ct, odds_ratio, p_value = create_crosstab(var)\n",
    "    \n",
    "    # Display the formatted table\n",
    "    display(ct)\n",
    "    \n",
    "    # Print statistics with proper formatting\n",
    "    print(\"\\nStatistics:\")\n",
    "    if odds_ratio is not None:\n",
    "        print(f\"Odds Ratio: {odds_ratio:.4f}\")\n",
    "    print(f\"P-value: {p_value:.4f}\")\n",
    "    print(\"\\n\" + \"=\"*80 + \"\\n\")  # Add a separator between variables"
   ]
  },
  {
   "cell_type": "markdown",
   "id": "ada046ec-7947-441a-82fb-db8948c0176d",
   "metadata": {},
   "source": [
    "# Activity 3: Preliminary analyses of numeric variables\n",
    "\n",
    "Always start by visualising the variables.\n",
    "\n",
    "## 3.1 Histograms and box plots\n",
    "In order to know whether to use the t-test or the Mann-Whitney, let's examine the distributions. It is always good to know the distributions of your variables. \n",
    "\n",
    "The following cell will produce both box-plots and histograms.\n",
    "\n",
    "Once you run the code, a drop-down menu comprising significant variables will appear underneath the cell. You can select each of these in turn, which wil re-run the code to produce new histograms for each selected variable.\n",
    "\n",
    "Step through at least three of these variables, to see which distributions are normal and which are not.\n",
    "\n",
    "## Go to your worksheet\n",
    "Complete table 1b:\n",
    "- For those that are normal, report the mean, SD and independent-samples t-test in your table on your worksheet.\n",
    "- For those that are not normal, report the mean, interquartile-range and Mann-Whitney U-test in your worksheet."
   ]
  },
  {
   "cell_type": "code",
   "execution_count": null,
   "id": "98b671c4-0527-4b46-bf84-41cd22cac078",
   "metadata": {},
   "outputs": [],
   "source": [
    "# List of variables to analyze\n",
    "variables = ['mean_Heart Rate', 'mean_Respiratory Rate', 'Respiratory SOFA Score', 'mean_FiO2 Set', 'Albumin (>3.2)',\n",
    "             'Tidal Volume (Obser)', 'PaO2', 'PaCO2', 'hgb', 'icustay_los']\n",
    "\n",
    "# Create the interactive widget\n",
    "widget = interact(create_histo, \n",
    "                    variable_to_analyze=widgets.Dropdown(\n",
    "                        options=variables,\n",
    "                        value='mean_Heart Rate',\n",
    "                        description='Variable:',\n",
    "                        disabled=False,\n",
    "                    ))\n",
    "display(widget)"
   ]
  },
  {
   "cell_type": "markdown",
   "id": "ae0b54a3-2f96-4ffd-8eb8-ac3a6533ae28",
   "metadata": {},
   "source": [
    "# Demo: Visualise relationship between two (numeric) variables\n",
    "## Scatterplots\n",
    "\n",
    "Next week we will conduct a regression. Our overall clinical problem is to predict extubation status. \n",
    "\n",
    "The code below creates a scatterplot, with a drop down widget so you can generate various scatterplots for various pairs of variables.\n",
    "\n",
    "You can see that the scatterplots with extubation status (`ext_status_bin_num`) look rather odd, as the the dots can only scatter along the 0 and 1 lines. This is because `ext_status_bin_num` is a binary variable.\n",
    "\n",
    "While correlations and regressions can be conducted with binary variables, they are more useful with numeric variables.\n",
    "\n",
    "For this reason, instead of examining the relationship of each variable with `ext_status_bin_num`, we will examine it with `icustay_los`. \n",
    "\n",
    "In your groups, run through pairs of variables, producing the scatterplots. While doing so, go to your worksheet and answer some questions about the activity. For the last question, you will need to run the widget for the next pair of 'instruction and code cells' beneath this pair. \n",
    "\n",
    "We are just looking briefly at scatterplots this week - we will learn more about these when learning about regression."
   ]
  },
  {
   "cell_type": "code",
   "execution_count": null,
   "id": "8f103b9a-073e-4dde-89a1-4257757f342e",
   "metadata": {},
   "outputs": [],
   "source": [
    "# List of variables to choose from\n",
    "variables = ['ext_status_bin_num', 'mean_Heart Rate', 'mean_Respiratory Rate', \n",
    "             'mean_FiO2 Set', 'Albumin (>3.2)','Tidal Volume (Obser)', 'PaO2', 'PaCO2', \n",
    "             'hgb', 'Respiratory SOFA Score','icustay_los']\n",
    "\n",
    "# Create the interactive widget\n",
    "interact(create_scatter, \n",
    "         x_var=widgets.Dropdown(options=variables, description='X Variable:', value='ext_status_bin_num'),\n",
    "         y_var=widgets.Dropdown(options=variables, description='Y Variable:', value='mean_Heart Rate'))"
   ]
  },
  {
   "cell_type": "markdown",
   "id": "15ea3064-66d3-467e-af54-dcba4cbe85a6",
   "metadata": {},
   "source": [
    "## Scatterplots by extubation status\n",
    "You can also examine scatter plots summarised by a third variable. In this case, examining each relationship separately by extubation status.\n",
    "\n",
    "Again, you can select the variables from the widget that will appear beneath the cell once you run the code. "
   ]
  },
  {
   "cell_type": "code",
   "execution_count": null,
   "id": "9db44e65-cea2-4f7f-908b-c9146c8af9a2",
   "metadata": {},
   "outputs": [],
   "source": [
    "from ipywidgets import interact, widgets\n",
    "from IPython.display import display\n",
    "\n",
    "# List of variables to choose from\n",
    "variables = ['ext_status_bin_num', 'mean_Heart Rate', 'mean_Respiratory Rate', \n",
    "             'mean_FiO2 Set', 'Albumin (>3.2)','Tidal Volume (Obser)', 'PaO2', 'PaCO2', \n",
    "             'hgb', 'Respiratory SOFA Score','icustay_los']\n",
    "\n",
    "# # Create the interactive widget\n",
    "interact(create_grp_scatter, \n",
    "         x_var=widgets.Dropdown(options=variables, description='X Variable:', value='icustay_los'),\n",
    "         y_var=widgets.Dropdown(options=variables, description='Y Variable:', value='mean_Heart Rate'))\n"
   ]
  },
  {
   "cell_type": "code",
   "execution_count": null,
   "id": "556e7644-8241-438e-9cce-03179c3b8f3f",
   "metadata": {},
   "outputs": [],
   "source": []
  }
 ],
 "metadata": {
  "kernelspec": {
   "display_name": "Python 3 (ipykernel)",
   "language": "python",
   "name": "python3"
  },
  "language_info": {
   "codemirror_mode": {
    "name": "ipython",
    "version": 3
   },
   "file_extension": ".py",
   "mimetype": "text/x-python",
   "name": "python",
   "nbconvert_exporter": "python",
   "pygments_lexer": "ipython3",
   "version": "3.10.9"
  }
 },
 "nbformat": 4,
 "nbformat_minor": 5
}
