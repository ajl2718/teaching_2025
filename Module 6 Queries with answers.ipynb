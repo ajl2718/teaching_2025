{
 "cells": [
  {
   "cell_type": "markdown",
   "id": "ab9bef27-6ec6-425e-923e-ba3983ad0936",
   "metadata": {},
   "source": [
    "# Module 6: How to create and communicate data queries\n",
    "\n",
    "In this module you learned about the challenges of translating clinical questions into data queries and the importance of clarity and rigour in doing do. The outcomes of this module are as follows:\n",
    "\n",
    "1. **Translate clinical questions** into data queries and requirements, and evaluate the suitability of a healthcare dataset for addressing a specific research question, considering the quality and structure of the data\n",
    "2. **Understand and apply commonly used healthcare terminologies** - including geographic and clinical coding standards - to interpret and work effectively with Australian healthcare data\n",
    "3. Perform essential **data cleaning transformations**, and **data quality assessments** to prepare clinical datasets for analysis and research\n",
    "4. Identify and address **commmon data quality issues**, evaluating their impact on the feasibility of a research question\n",
    "\n",
    "This notebook consists of four activities, which build on and test what you have learned in the pre-class material\n",
    "\n",
    "## Datasets\n",
    "\n",
    "We will work with two different datasets in this activity, so that you can gain experience with common data sources that appear in Australian healthcare settings:\n",
    "\n",
    "- [Australian Institute of Health and Welfare (AIHW)) cancer incidence in Australia](https://www.aihw.gov.au/reports/cancer/cancer-data-in-australia/contents/overview) by age group and 4 digit ICD-10 code\n",
    "- [Australian Bureau of Statistics Census Data](https://www.abs.gov.au/census)\n",
    "\n",
    "## Activity 1: Carry out a basic data quality assessment of a healthcare dataset\n",
    "\n",
    "The paper describing the Kahn Data Quality Framework can be found here: https://pmc.ncbi.nlm.nih.gov/articles/PMC5051581/\n",
    "\n",
    "In this activity you will summarise important information about the quality of the data across the two of the three main dimensions in Kahn's Data Quality Framework, namely:\n",
    "- Completeness\n",
    "- Conformance\n",
    "\n",
    "## Activity 2: Translate a healthcare question into a data query\n",
    "\n",
    "Following the initial brief data quality assessment, we can now look at a particularly topical question in public health related to the incidence of colorectal cancer among young people. You will translate this into a data query so that in the next step you can carry out a set of clearly defined transformations and data cleaning operations.\n",
    "\n",
    "## Activity 3: Carry out data wrangling and cleaning transformations on a clinical dataset\n",
    "\n",
    "Now you will do the work with the data necessary to address the query. You will make use of what you have learned in the modules about data transformations and data cleaning in order to arrive at your results\n",
    "\n",
    "## Activity 4: Translate the results back into language that addresses the question\n",
    "\n",
    "Finally we need to provide a concise response that addresses the initial query. In this final activity you will do this, outlining any assumptions, caveats and limitations as well."
   ]
  },
  {
   "cell_type": "markdown",
   "id": "cc4982d1-ec76-4ea4-aba7-4bb111b6be68",
   "metadata": {},
   "source": [
    "## Configure the notebook"
   ]
  },
  {
   "cell_type": "code",
   "execution_count": 1,
   "id": "5a1d2c41-90ee-4bf6-a635-10994e5e0f5d",
   "metadata": {},
   "outputs": [],
   "source": [
    "import pandas as pd\n",
    "import numpy as np\n",
    "import matplotlib.pyplot as plt\n",
    "import seaborn as sns\n",
    "from os import listdir\n",
    "\n",
    "from easypandas import EasyDataFrame, clean_numeric_string\n",
    "\n",
    "sns.set()\n",
    "%matplotlib inline"
   ]
  },
  {
   "cell_type": "markdown",
   "id": "58c954a3-dd72-45d5-bb85-48695a14057a",
   "metadata": {},
   "source": [
    "## Load the data\n",
    "\n",
    "Run the code cell below to load the dataset"
   ]
  },
  {
   "cell_type": "code",
   "execution_count": 2,
   "id": "0ad254db-efae-47e7-8ab5-0dad1505529e",
   "metadata": {},
   "outputs": [],
   "source": [
    "df = (\n",
    "    EasyDataFrame(pd.read_csv('cancer_stats_aihw_new.csv'))\n",
    "    .loc[:, ['data_typer', 'year', 'sex', 'age_group', 'num_cases', 'age_rate_std_2024', 'icd10_subsite']]\n",
    ")"
   ]
  },
  {
   "cell_type": "markdown",
   "id": "357b6747-cecf-4a55-a904-a830a270aed0",
   "metadata": {},
   "source": [
    "## Activity 1: Data quality assessment\n",
    "\n",
    "In any sort of data analysis, the first step is to understand the data itself, including any data quality issues that may impact downstream analyses. We begin by inspecting the dataset that we use later on, to identify what some of these issues are.\n",
    "\n",
    "But what do we mean by data quality? One way of thinking about data quality is through the [Kahn Data Quality Framework](https://pmc.ncbi.nlm.nih.gov/articles/PMC5051581/). This framework defines data quality across different categories: \n",
    "- conformance\n",
    "- completeness\n",
    "- plausibility\n",
    "\n",
    "We will look at the first two.\n",
    "\n",
    "The dataset we are working with is actually quite good quality, with relatively few issues, as it is from an official government agency. "
   ]
  },
  {
   "cell_type": "markdown",
   "id": "a9943567-8c4f-4e90-b76f-bf4704e70c0d",
   "metadata": {},
   "source": [
    "### 1.1. Conformance\n",
    "\n",
    "\"Conformance focuses on DQ features that describe the compliance of the representation of data against internal or external formatting, relational, or computational definitions. \"\n",
    "\n",
    "- Value conformance: agree with specified standards\n",
    "- Relational conformance: satisfy logical relations specified by a database\n",
    "- Computational conformance: derived values fit a standard\n",
    "\n",
    "**Task: Inspect the dataset and identify ways in which the different columns do or do not conform to the format that you would expect. For example: numbers may be represented as text, time values may include decimal points.**\n",
    "\n",
    "In your response below focus on the columns:\n",
    "- year\n",
    "- sex\n",
    "- age group\n",
    "- num_cases\n",
    "- age_rate_std_2024\n",
    "- icd10_subsite\n"
   ]
  },
  {
   "cell_type": "code",
   "execution_count": 3,
   "id": "9d618d1e-0546-4469-9966-617ef9d8eb55",
   "metadata": {},
   "outputs": [
    {
     "data": {
      "text/html": [
       "<div>\n",
       "<style scoped>\n",
       "    .dataframe tbody tr th:only-of-type {\n",
       "        vertical-align: middle;\n",
       "    }\n",
       "\n",
       "    .dataframe tbody tr th {\n",
       "        vertical-align: top;\n",
       "    }\n",
       "\n",
       "    .dataframe thead th {\n",
       "        text-align: right;\n",
       "    }\n",
       "</style>\n",
       "<table border=\"1\" class=\"dataframe\">\n",
       "  <thead>\n",
       "    <tr style=\"text-align: right;\">\n",
       "      <th></th>\n",
       "      <th>data_typer</th>\n",
       "      <th>year</th>\n",
       "      <th>sex</th>\n",
       "      <th>age_group</th>\n",
       "      <th>num_cases</th>\n",
       "      <th>age_rate_std_2024</th>\n",
       "      <th>icd10_subsite</th>\n",
       "    </tr>\n",
       "  </thead>\n",
       "  <tbody>\n",
       "    <tr>\n",
       "      <th>11652</th>\n",
       "      <td>Actual</td>\n",
       "      <td>2004.0</td>\n",
       "      <td>Females</td>\n",
       "      <td>25–34</td>\n",
       "      <td>5.0</td>\n",
       "      <td>0.3</td>\n",
       "      <td>Please refer to Cancer commentary number 7 for...</td>\n",
       "    </tr>\n",
       "    <tr>\n",
       "      <th>78852</th>\n",
       "      <td>Actual</td>\n",
       "      <td>2005.0</td>\n",
       "      <td>Persons</td>\n",
       "      <td>25–34</td>\n",
       "      <td>0.0</td>\n",
       "      <td>0.0</td>\n",
       "      <td>C63</td>\n",
       "    </tr>\n",
       "    <tr>\n",
       "      <th>44611</th>\n",
       "      <td>Actual</td>\n",
       "      <td>1990.0</td>\n",
       "      <td>Males</td>\n",
       "      <td>15–24</td>\n",
       "      <td>1.0</td>\n",
       "      <td>0.1</td>\n",
       "      <td>C22</td>\n",
       "    </tr>\n",
       "    <tr>\n",
       "      <th>115184</th>\n",
       "      <td>Actual</td>\n",
       "      <td>1999.0</td>\n",
       "      <td>Persons</td>\n",
       "      <td>45–54</td>\n",
       "      <td>235.0</td>\n",
       "      <td>9.3</td>\n",
       "      <td>C54–C55</td>\n",
       "    </tr>\n",
       "    <tr>\n",
       "      <th>73888</th>\n",
       "      <td>Actual</td>\n",
       "      <td>2017.0</td>\n",
       "      <td>Persons</td>\n",
       "      <td>85+</td>\n",
       "      <td>14.0</td>\n",
       "      <td>2.9</td>\n",
       "      <td>C92.2, C92.9, C93.2, C93.7, C93.9, C94.6</td>\n",
       "    </tr>\n",
       "  </tbody>\n",
       "</table>\n",
       "</div>"
      ],
      "text/plain": [
       "       data_typer    year      sex age_group  num_cases  age_rate_std_2024  \\\n",
       "11652      Actual  2004.0  Females     25–34        5.0                0.3   \n",
       "78852      Actual  2005.0  Persons     25–34        0.0                0.0   \n",
       "44611      Actual  1990.0    Males     15–24        1.0                0.1   \n",
       "115184     Actual  1999.0  Persons     45–54      235.0                9.3   \n",
       "73888      Actual  2017.0  Persons       85+       14.0                2.9   \n",
       "\n",
       "                                            icd10_subsite  \n",
       "11652   Please refer to Cancer commentary number 7 for...  \n",
       "78852                                                 C63  \n",
       "44611                                                 C22  \n",
       "115184                                            C54–C55  \n",
       "73888            C92.2, C92.9, C93.2, C93.7, C93.9, C94.6  "
      ]
     },
     "execution_count": 3,
     "metadata": {},
     "output_type": "execute_result"
    }
   ],
   "source": [
    "# run this code to look at a random subset of 5 rows of the table\n",
    "df.filter('data_typer', 'equals', \"Actual\").sample(5, random_state=42)"
   ]
  },
  {
   "cell_type": "markdown",
   "id": "b84ee722-af80-431c-81f9-6cf7aaceaded",
   "metadata": {},
   "source": [
    "Enter your responses below"
   ]
  },
  {
   "cell_type": "code",
   "execution_count": 4,
   "id": "59f8a110-bf1e-4fd7-8d07-89642d2bc766",
   "metadata": {},
   "outputs": [],
   "source": [
    "# year: decimal rather than integer\n",
    "# sex: ok\n",
    "# age group: age bands may not be suitable  \n",
    "# num_cases: decimal rather than integer\n",
    "# age_rate_std_2024: ok\n",
    "# icd10_subsite: has free text, individual cases, spans and lists"
   ]
  },
  {
   "cell_type": "markdown",
   "id": "ad766c3e-0ce5-48ac-a13f-c4686e34d7a4",
   "metadata": {},
   "source": [
    "### 1.2. Completeness\n",
    "\n",
    "*Completeness* measures how many of the responses are filled in. Usually we calculate its opposite, *missingness*, i.e., many values are missing in each column.\n",
    "\n",
    "**Task: Run the code in the cells below to calculate proportion of values that are complete, i.e., not missing, for each column**\n",
    "\n",
    "Hint: Sometimes missing values are recorded as `NaN` or `null` but there may just be values that can't be recognised as a value."
   ]
  },
  {
   "cell_type": "code",
   "execution_count": 5,
   "id": "2ebeeec2-752b-4d75-9de3-a387ba8a1569",
   "metadata": {},
   "outputs": [
    {
     "data": {
      "text/plain": [
       "0"
      ]
     },
     "execution_count": 5,
     "metadata": {},
     "output_type": "execute_result"
    }
   ],
   "source": [
    "# number of missing values in year\n",
    "df.select('year').isnull().sum().item()"
   ]
  },
  {
   "cell_type": "code",
   "execution_count": 6,
   "id": "c68090bb-5b54-4669-af36-0581ba8337dd",
   "metadata": {},
   "outputs": [
    {
     "data": {
      "text/plain": [
       "0"
      ]
     },
     "execution_count": 6,
     "metadata": {},
     "output_type": "execute_result"
    }
   ],
   "source": [
    "# number of missing values for sex\n",
    "df.select('sex').isnull().sum().item()"
   ]
  },
  {
   "cell_type": "code",
   "execution_count": 7,
   "id": "20be919e-ebb4-4db5-857d-0fc57e285b8f",
   "metadata": {},
   "outputs": [
    {
     "data": {
      "text/plain": [
       "0"
      ]
     },
     "execution_count": 7,
     "metadata": {},
     "output_type": "execute_result"
    }
   ],
   "source": [
    "# number of missing values for age group\n",
    "df.select('age_group').isnull().sum().item()"
   ]
  },
  {
   "cell_type": "code",
   "execution_count": 8,
   "id": "3a899e5c-3167-4b15-8e2f-8b71c2976860",
   "metadata": {},
   "outputs": [
    {
     "data": {
      "text/plain": [
       "0"
      ]
     },
     "execution_count": 8,
     "metadata": {},
     "output_type": "execute_result"
    }
   ],
   "source": [
    "# number of missing values for cases\n",
    "df.select('num_cases').isnull().sum().item()"
   ]
  },
  {
   "cell_type": "code",
   "execution_count": 9,
   "id": "5a896319-9cba-49ca-9e4f-6e537ee42185",
   "metadata": {},
   "outputs": [
    {
     "data": {
      "text/plain": [
       "np.float64(0.0)"
      ]
     },
     "execution_count": 9,
     "metadata": {},
     "output_type": "execute_result"
    }
   ],
   "source": [
    "# number of missing values for age_rate_std_2024\n",
    "pd.to_numeric(df.select('age_rate_std_2024'), errors='coerce').isnull().mean()"
   ]
  },
  {
   "cell_type": "code",
   "execution_count": 10,
   "id": "c92cbad1-0358-46bd-926f-6693890c6a5c",
   "metadata": {},
   "outputs": [
    {
     "data": {
      "text/plain": [
       "np.int64(0)"
      ]
     },
     "execution_count": 10,
     "metadata": {},
     "output_type": "execute_result"
    }
   ],
   "source": [
    "# number of missing values for icd10_subsite\n",
    "df.icd10_subsite.isnull().sum()"
   ]
  },
  {
   "cell_type": "markdown",
   "id": "a5d2e9ba-53a7-4489-96b6-c08ae99ed42a",
   "metadata": {},
   "source": [
    "Enter you responses below"
   ]
  },
  {
   "cell_type": "code",
   "execution_count": 11,
   "id": "5fc0979a-7b7c-48da-b6d1-4d8a5f370afa",
   "metadata": {},
   "outputs": [],
   "source": [
    "# year: 100% complete\n",
    "# sex: 100% complete\n",
    "# age_group: 100% complete\n",
    "# age_rate_std_2024: 100% complete\n",
    "# icd10_subsite: 100% complete"
   ]
  },
  {
   "cell_type": "markdown",
   "id": "ffc8b451-4578-4217-a64b-86b1e1f44f21",
   "metadata": {},
   "source": [
    "## Activity 2: Translate a public health question into a data query\n",
    "\n",
    "It has been observed in many countries that [diagnoses of colorectal cancers are increasing among younger people](https://pmc.ncbi.nlm.nih.gov/articles/PMC10589420/) while decreasing among other demographics. It is not known what is causing this increase.\n",
    "\n",
    "Policymakers and public health researchers need to be able to precisely track the numbers of different types of cancers, so they can understand what the overall disease burden is from cancer, and where they might intervene to improve cancer outcomes.\n",
    "\n",
    "In this first question you will use the AIHW dataset you have just been working to quantify the increase in colorectal cancer cases among younger Australians.\n"
   ]
  },
  {
   "cell_type": "markdown",
   "id": "0a807aa5-aada-45b4-a432-a2a280aba8ad",
   "metadata": {},
   "source": [
    "### 2.1. Colorectal cancer incidence among younger people in Australia"
   ]
  },
  {
   "cell_type": "markdown",
   "id": "50e1a6a2-56e8-4440-af3b-f525b19888a5",
   "metadata": {},
   "source": [
    "<div style=\"\n",
    "    border: 2px solid black; \n",
    "    border-radius: 10px; \n",
    "    padding: 20px; \n",
    "    text-align: center; \n",
    "    width: 80%; \n",
    "    margin: auto; \n",
    "    font-family: Arial, sans-serif; \n",
    "    font-size: 18px; \n",
    "    line-height: 1.5;\">\n",
    "    <strong>Suppose a policymaker asks you the following question:</strong><br><br>\n",
    "    <em>How is the incidence of young onset colorectal cancer in Australia changing over time?</em>\n",
    "</div>\n"
   ]
  },
  {
   "cell_type": "markdown",
   "id": "09ed8702-367a-44fc-b0f4-7bf386336089",
   "metadata": {},
   "source": [
    "**Task: What are some questions that you need to answer and aspects of the data you need to understand to be able to correctly address this question? Record these in your worksheet**\n",
    "\n",
    "Enter your responses below"
   ]
  },
  {
   "cell_type": "code",
   "execution_count": 12,
   "id": "dff2d983-f616-4c0b-96b7-ea489a60bcd4",
   "metadata": {},
   "outputs": [],
   "source": [
    "# define 'young onset' age groups\n",
    "# which icd10 codes are relevant to colorectal cancer?\n",
    "# what is meant by incidence?\n",
    "# what time period are they interested in?"
   ]
  },
  {
   "cell_type": "markdown",
   "id": "08080f00-ddb0-49f3-9cbd-89efe00d1905",
   "metadata": {},
   "source": [
    "### 2.2. Inspecting the data\n",
    "\n",
    "Let's begin by taking a peek at the data. Run the following code cell"
   ]
  },
  {
   "cell_type": "code",
   "execution_count": 13,
   "id": "b63658ad-1894-40b8-9892-79c84afbb00e",
   "metadata": {},
   "outputs": [
    {
     "data": {
      "text/html": [
       "<div>\n",
       "<style scoped>\n",
       "    .dataframe tbody tr th:only-of-type {\n",
       "        vertical-align: middle;\n",
       "    }\n",
       "\n",
       "    .dataframe tbody tr th {\n",
       "        vertical-align: top;\n",
       "    }\n",
       "\n",
       "    .dataframe thead th {\n",
       "        text-align: right;\n",
       "    }\n",
       "</style>\n",
       "<table border=\"1\" class=\"dataframe\">\n",
       "  <thead>\n",
       "    <tr style=\"text-align: right;\">\n",
       "      <th></th>\n",
       "      <th>data_typer</th>\n",
       "      <th>year</th>\n",
       "      <th>sex</th>\n",
       "      <th>age_group</th>\n",
       "      <th>num_cases</th>\n",
       "      <th>age_rate_std_2024</th>\n",
       "      <th>icd10_subsite</th>\n",
       "    </tr>\n",
       "  </thead>\n",
       "  <tbody>\n",
       "    <tr>\n",
       "      <th>3137</th>\n",
       "      <td>Projections</td>\n",
       "      <td>2021.0</td>\n",
       "      <td>Females</td>\n",
       "      <td>75–84</td>\n",
       "      <td>1898.0</td>\n",
       "      <td>265.5</td>\n",
       "      <td>C81–C96, D45, D46, D47.1, D47.3–D47.5</td>\n",
       "    </tr>\n",
       "    <tr>\n",
       "      <th>84841</th>\n",
       "      <td>Actual</td>\n",
       "      <td>2000.0</td>\n",
       "      <td>Males</td>\n",
       "      <td>15–24</td>\n",
       "      <td>0.0</td>\n",
       "      <td>0.0</td>\n",
       "      <td>C08.8–C08.9</td>\n",
       "    </tr>\n",
       "    <tr>\n",
       "      <th>5061</th>\n",
       "      <td>Actual</td>\n",
       "      <td>1999.0</td>\n",
       "      <td>Persons</td>\n",
       "      <td>15–24</td>\n",
       "      <td>67.0</td>\n",
       "      <td>2.6</td>\n",
       "      <td>Please refer to Cancer commentary number 7 for...</td>\n",
       "    </tr>\n",
       "    <tr>\n",
       "      <th>97953</th>\n",
       "      <td>Actual</td>\n",
       "      <td>2007.0</td>\n",
       "      <td>Males</td>\n",
       "      <td>35–44</td>\n",
       "      <td>1.0</td>\n",
       "      <td>0.1</td>\n",
       "      <td>C65</td>\n",
       "    </tr>\n",
       "    <tr>\n",
       "      <th>32404</th>\n",
       "      <td>Actual</td>\n",
       "      <td>2013.0</td>\n",
       "      <td>Males</td>\n",
       "      <td>45–54</td>\n",
       "      <td>461.0</td>\n",
       "      <td>30.3</td>\n",
       "      <td>C01–C14, C30–C32</td>\n",
       "    </tr>\n",
       "  </tbody>\n",
       "</table>\n",
       "</div>"
      ],
      "text/plain": [
       "        data_typer    year      sex age_group  num_cases  age_rate_std_2024  \\\n",
       "3137   Projections  2021.0  Females     75–84     1898.0              265.5   \n",
       "84841       Actual  2000.0    Males     15–24        0.0                0.0   \n",
       "5061        Actual  1999.0  Persons     15–24       67.0                2.6   \n",
       "97953       Actual  2007.0    Males     35–44        1.0                0.1   \n",
       "32404       Actual  2013.0    Males     45–54      461.0               30.3   \n",
       "\n",
       "                                           icd10_subsite  \n",
       "3137               C81–C96, D45, D46, D47.1, D47.3–D47.5  \n",
       "84841                                        C08.8–C08.9  \n",
       "5061   Please refer to Cancer commentary number 7 for...  \n",
       "97953                                                C65  \n",
       "32404                                   C01–C14, C30–C32  "
      ]
     },
     "execution_count": 13,
     "metadata": {},
     "output_type": "execute_result"
    }
   ],
   "source": [
    "df.sample(5, random_state=42)"
   ]
  },
  {
   "cell_type": "markdown",
   "id": "67eea2d7-f9c1-417f-a0a9-0462e5b278b9",
   "metadata": {},
   "source": [
    "**Task: Fill in what each of the columns means along with the data type. Use your responses from the previous activity to help you.**"
   ]
  },
  {
   "cell_type": "code",
   "execution_count": 14,
   "id": "85dafe12-e609-4bf0-87e9-dff4d3c76a62",
   "metadata": {},
   "outputs": [],
   "source": [
    "# datatype_r: categorical / string, actual numbers vs projected values from a model\n",
    "# year: year of diagnosis of cancer\n",
    "# sex: sex of the people diagnosed with the cancer type in the year\n",
    "# age_group: age group of patient\n",
    "# num_cases: number of people diagnosed with the given cancer type in the year, age group and sex\n",
    "# age_rate_std_2024: age standardised rate of cancer, adjusted to age distribution for 2024\n",
    "# icd10_subsite: location of the primary tumour"
   ]
  },
  {
   "cell_type": "markdown",
   "id": "81f519a6-0ba9-4e88-af28-4ddac177fc25",
   "metadata": {},
   "source": [
    "### 2.3. Age groups \n",
    "\n",
    "Notice that tha age group column reports ages in 10 year increments. In this context *young* is often defined as someone under 50, so these age brackets do not neatly align with this definition. As a result we can use either <45 or <55. We will use under 55 to define young. \n",
    "\n",
    "**Run the following code cell**"
   ]
  },
  {
   "cell_type": "code",
   "execution_count": 15,
   "id": "1d9ede78-fb1e-4a7a-80bf-0d809b3409ea",
   "metadata": {},
   "outputs": [],
   "source": [
    "age_groups_young= ['00–14', '15–24', '25–34', '35–44', '45–54']\n",
    "age_groups_old = ['75-84', '85+']\n",
    "\n",
    "age_groups_all = ['00–14', '15–24', '25–34', '35–44', '45–54', '55–64', '65–74', '75–84', '85+']"
   ]
  },
  {
   "cell_type": "markdown",
   "id": "0d962ff3-1b25-4f16-bebb-b8d99eebafcd",
   "metadata": {},
   "source": [
    "### 2.4. ICD-10 codes\n",
    "\n",
    "The ICD10_subsite field specifies the anatomical location where the primary cancer diagnosis was made. So we need to know which codes relate to colorectal cancer. It is best to use an official source such as a publication or from an official cancer agency. The Victorian Cancer Registry defines colorectal cancer (also referred to as bowel cancer) here: https://www.cancervic.org.au/downloads/cec/cancer-in-vic/Cancer%20in%20Victoria%202023.pdf\n",
    "\n",
    "**What are the ICD10 codes that relate to colorectal cancer? Complete these in the cell below (in the form 'C(number)')**"
   ]
  },
  {
   "cell_type": "code",
   "execution_count": 16,
   "id": "04e32179-27e8-4f90-b01f-97bb50ddc659",
   "metadata": {},
   "outputs": [],
   "source": [
    "icd_crc = ['C18', 'C19', 'C20']"
   ]
  },
  {
   "cell_type": "code",
   "execution_count": 17,
   "id": "7f8e4a1e-5a75-418c-a411-a5e7d6e6fe2e",
   "metadata": {},
   "outputs": [],
   "source": [
    "# we will compare rates of colorectal cancer with lung cancer\n",
    "icd_lung = 'C33–C34'"
   ]
  },
  {
   "cell_type": "markdown",
   "id": "6ff100ba-3703-4562-aa7f-57481bb04c00",
   "metadata": {},
   "source": [
    "### 2.5. Time periods\n",
    "\n",
    "What time periods are available in our data? We can quickly inspect the data to see. \n",
    "\n",
    "**Run the following code cells**"
   ]
  },
  {
   "cell_type": "code",
   "execution_count": 18,
   "id": "ff836281-57a9-4069-a172-a2c88798b293",
   "metadata": {},
   "outputs": [
    {
     "data": {
      "text/plain": [
       "np.float64(1982.0)"
      ]
     },
     "execution_count": 18,
     "metadata": {},
     "output_type": "execute_result"
    }
   ],
   "source": [
    "df.select('year').min()"
   ]
  },
  {
   "cell_type": "code",
   "execution_count": 19,
   "id": "7478cf56-e6f8-4ff1-b07f-1a48c8eb3758",
   "metadata": {},
   "outputs": [
    {
     "data": {
      "text/plain": [
       "np.float64(2024.0)"
      ]
     },
     "execution_count": 19,
     "metadata": {},
     "output_type": "execute_result"
    }
   ],
   "source": [
    "df.select('year').max()"
   ]
  },
  {
   "cell_type": "markdown",
   "id": "54a162e9-872b-44f1-a28b-32cc41921452",
   "metadata": {},
   "source": [
    "## Activity 3: Carry out data cleaning and transformations"
   ]
  },
  {
   "cell_type": "markdown",
   "id": "efbf9112-cd5d-4b19-ab69-07e67009dc4c",
   "metadata": {},
   "source": [
    "### 3.1. Data cleaning\n",
    "\n",
    "After inspecting the data there are a few issues\n",
    "\n",
    "1) The num_cases values are considered to be 'strings' because some values contain characters such as ','\n",
    "2) The year is a decimal rather than an integer\n",
    "3) There are a mix of projections and actual numbers\n",
    "4) The icd10_subsite field contains individual ICD10 codes along with some ranges\n",
    "5) The age_group is a string with off decade definitions of ages\n",
    "\n",
    "We will carry out some initial transformations to deal with the first two issues, then some transformations to calculate the number of colorectal cancer cancers.\n",
    "\n",
    "**Run the following code cell**"
   ]
  },
  {
   "cell_type": "code",
   "execution_count": 20,
   "id": "3d24ac46-eb6d-41be-9993-337023dbe2f2",
   "metadata": {},
   "outputs": [],
   "source": [
    "# some data cleaning to deal with the fact that the num_cases is represented as a string rather than a float\n",
    "df_cleaner = (\n",
    "    df\n",
    "    .add_derived_column('year', 'year', int)\n",
    ")"
   ]
  },
  {
   "cell_type": "markdown",
   "id": "df486c24-8cde-4c43-b264-c9009b746b97",
   "metadata": {},
   "source": [
    "The following code carries out a sequence of transformations to calculate the number of CRC cases by year and sex.\n",
    "\n",
    "**Explain what each of the transformations (each line of code starting with `.`) is doing. Five random rows of the dataframe shown below should help**"
   ]
  },
  {
   "cell_type": "code",
   "execution_count": 21,
   "id": "7e76c073-6888-4bd8-b9c5-527906047b20",
   "metadata": {},
   "outputs": [
    {
     "data": {
      "text/html": [
       "<div>\n",
       "<style scoped>\n",
       "    .dataframe tbody tr th:only-of-type {\n",
       "        vertical-align: middle;\n",
       "    }\n",
       "\n",
       "    .dataframe tbody tr th {\n",
       "        vertical-align: top;\n",
       "    }\n",
       "\n",
       "    .dataframe thead th {\n",
       "        text-align: right;\n",
       "    }\n",
       "</style>\n",
       "<table border=\"1\" class=\"dataframe\">\n",
       "  <thead>\n",
       "    <tr style=\"text-align: right;\">\n",
       "      <th></th>\n",
       "      <th>data_typer</th>\n",
       "      <th>year</th>\n",
       "      <th>sex</th>\n",
       "      <th>age_group</th>\n",
       "      <th>num_cases</th>\n",
       "      <th>age_rate_std_2024</th>\n",
       "      <th>icd10_subsite</th>\n",
       "    </tr>\n",
       "  </thead>\n",
       "  <tbody>\n",
       "    <tr>\n",
       "      <th>3137</th>\n",
       "      <td>Projections</td>\n",
       "      <td>2021</td>\n",
       "      <td>Females</td>\n",
       "      <td>75–84</td>\n",
       "      <td>1898.0</td>\n",
       "      <td>265.5</td>\n",
       "      <td>C81–C96, D45, D46, D47.1, D47.3–D47.5</td>\n",
       "    </tr>\n",
       "    <tr>\n",
       "      <th>84841</th>\n",
       "      <td>Actual</td>\n",
       "      <td>2000</td>\n",
       "      <td>Males</td>\n",
       "      <td>15–24</td>\n",
       "      <td>0.0</td>\n",
       "      <td>0.0</td>\n",
       "      <td>C08.8–C08.9</td>\n",
       "    </tr>\n",
       "    <tr>\n",
       "      <th>5061</th>\n",
       "      <td>Actual</td>\n",
       "      <td>1999</td>\n",
       "      <td>Persons</td>\n",
       "      <td>15–24</td>\n",
       "      <td>67.0</td>\n",
       "      <td>2.6</td>\n",
       "      <td>Please refer to Cancer commentary number 7 for...</td>\n",
       "    </tr>\n",
       "    <tr>\n",
       "      <th>97953</th>\n",
       "      <td>Actual</td>\n",
       "      <td>2007</td>\n",
       "      <td>Males</td>\n",
       "      <td>35–44</td>\n",
       "      <td>1.0</td>\n",
       "      <td>0.1</td>\n",
       "      <td>C65</td>\n",
       "    </tr>\n",
       "    <tr>\n",
       "      <th>32404</th>\n",
       "      <td>Actual</td>\n",
       "      <td>2013</td>\n",
       "      <td>Males</td>\n",
       "      <td>45–54</td>\n",
       "      <td>461.0</td>\n",
       "      <td>30.3</td>\n",
       "      <td>C01–C14, C30–C32</td>\n",
       "    </tr>\n",
       "  </tbody>\n",
       "</table>\n",
       "</div>"
      ],
      "text/plain": [
       "        data_typer  year      sex age_group  num_cases  age_rate_std_2024  \\\n",
       "3137   Projections  2021  Females     75–84     1898.0              265.5   \n",
       "84841       Actual  2000    Males     15–24        0.0                0.0   \n",
       "5061        Actual  1999  Persons     15–24       67.0                2.6   \n",
       "97953       Actual  2007    Males     35–44        1.0                0.1   \n",
       "32404       Actual  2013    Males     45–54      461.0               30.3   \n",
       "\n",
       "                                           icd10_subsite  \n",
       "3137               C81–C96, D45, D46, D47.1, D47.3–D47.5  \n",
       "84841                                        C08.8–C08.9  \n",
       "5061   Please refer to Cancer commentary number 7 for...  \n",
       "97953                                                C65  \n",
       "32404                                   C01–C14, C30–C32  "
      ]
     },
     "execution_count": 21,
     "metadata": {},
     "output_type": "execute_result"
    }
   ],
   "source": [
    "df_cleaner.sample(5, random_state=42)"
   ]
  },
  {
   "cell_type": "code",
   "execution_count": 22,
   "id": "066bea87-ad7d-4add-ad98-902515c60651",
   "metadata": {},
   "outputs": [],
   "source": [
    "df_crc_young = (\n",
    "    df_cleaner\n",
    "    .filter('data_typer', 'equals', 'Actual')\n",
    "    .filter('icd10_subsite', 'in', icd_crc)\n",
    "    .filter('age_group', 'in', age_groups_young)\n",
    "    .groupby(['year', 'sex'], 'num_cases', 'sum')\n",
    "    .add_column('cancer_type', 'crc')\n",
    "    .add_column('cohort', 'young')\n",
    ")"
   ]
  },
  {
   "cell_type": "code",
   "execution_count": 23,
   "id": "a082c33f-60cb-4ba2-aca7-d1150904019e",
   "metadata": {},
   "outputs": [
    {
     "data": {
      "text/html": [
       "<div>\n",
       "<style scoped>\n",
       "    .dataframe tbody tr th:only-of-type {\n",
       "        vertical-align: middle;\n",
       "    }\n",
       "\n",
       "    .dataframe tbody tr th {\n",
       "        vertical-align: top;\n",
       "    }\n",
       "\n",
       "    .dataframe thead th {\n",
       "        text-align: right;\n",
       "    }\n",
       "</style>\n",
       "<table border=\"1\" class=\"dataframe\">\n",
       "  <thead>\n",
       "    <tr style=\"text-align: right;\">\n",
       "      <th></th>\n",
       "      <th>year</th>\n",
       "      <th>sex</th>\n",
       "      <th>num_cases</th>\n",
       "      <th>cancer_type</th>\n",
       "      <th>cohort</th>\n",
       "    </tr>\n",
       "  </thead>\n",
       "  <tbody>\n",
       "    <tr>\n",
       "      <th>0</th>\n",
       "      <td>1982</td>\n",
       "      <td>Females</td>\n",
       "      <td>578.0</td>\n",
       "      <td>crc</td>\n",
       "      <td>young</td>\n",
       "    </tr>\n",
       "    <tr>\n",
       "      <th>1</th>\n",
       "      <td>1982</td>\n",
       "      <td>Males</td>\n",
       "      <td>583.0</td>\n",
       "      <td>crc</td>\n",
       "      <td>young</td>\n",
       "    </tr>\n",
       "    <tr>\n",
       "      <th>2</th>\n",
       "      <td>1982</td>\n",
       "      <td>Persons</td>\n",
       "      <td>1161.0</td>\n",
       "      <td>crc</td>\n",
       "      <td>young</td>\n",
       "    </tr>\n",
       "    <tr>\n",
       "      <th>3</th>\n",
       "      <td>1983</td>\n",
       "      <td>Females</td>\n",
       "      <td>569.0</td>\n",
       "      <td>crc</td>\n",
       "      <td>young</td>\n",
       "    </tr>\n",
       "    <tr>\n",
       "      <th>4</th>\n",
       "      <td>1983</td>\n",
       "      <td>Males</td>\n",
       "      <td>635.0</td>\n",
       "      <td>crc</td>\n",
       "      <td>young</td>\n",
       "    </tr>\n",
       "    <tr>\n",
       "      <th>...</th>\n",
       "      <td>...</td>\n",
       "      <td>...</td>\n",
       "      <td>...</td>\n",
       "      <td>...</td>\n",
       "      <td>...</td>\n",
       "    </tr>\n",
       "    <tr>\n",
       "      <th>112</th>\n",
       "      <td>2019</td>\n",
       "      <td>Males</td>\n",
       "      <td>1409.0</td>\n",
       "      <td>crc</td>\n",
       "      <td>young</td>\n",
       "    </tr>\n",
       "    <tr>\n",
       "      <th>113</th>\n",
       "      <td>2019</td>\n",
       "      <td>Persons</td>\n",
       "      <td>2727.0</td>\n",
       "      <td>crc</td>\n",
       "      <td>young</td>\n",
       "    </tr>\n",
       "    <tr>\n",
       "      <th>114</th>\n",
       "      <td>2020</td>\n",
       "      <td>Females</td>\n",
       "      <td>1260.0</td>\n",
       "      <td>crc</td>\n",
       "      <td>young</td>\n",
       "    </tr>\n",
       "    <tr>\n",
       "      <th>115</th>\n",
       "      <td>2020</td>\n",
       "      <td>Males</td>\n",
       "      <td>1432.0</td>\n",
       "      <td>crc</td>\n",
       "      <td>young</td>\n",
       "    </tr>\n",
       "    <tr>\n",
       "      <th>116</th>\n",
       "      <td>2020</td>\n",
       "      <td>Persons</td>\n",
       "      <td>2692.0</td>\n",
       "      <td>crc</td>\n",
       "      <td>young</td>\n",
       "    </tr>\n",
       "  </tbody>\n",
       "</table>\n",
       "<p>117 rows × 5 columns</p>\n",
       "</div>"
      ],
      "text/plain": [
       "     year      sex  num_cases cancer_type cohort\n",
       "0    1982  Females      578.0         crc  young\n",
       "1    1982    Males      583.0         crc  young\n",
       "2    1982  Persons     1161.0         crc  young\n",
       "3    1983  Females      569.0         crc  young\n",
       "4    1983    Males      635.0         crc  young\n",
       "..    ...      ...        ...         ...    ...\n",
       "112  2019    Males     1409.0         crc  young\n",
       "113  2019  Persons     2727.0         crc  young\n",
       "114  2020  Females     1260.0         crc  young\n",
       "115  2020    Males     1432.0         crc  young\n",
       "116  2020  Persons     2692.0         crc  young\n",
       "\n",
       "[117 rows x 5 columns]"
      ]
     },
     "execution_count": 23,
     "metadata": {},
     "output_type": "execute_result"
    }
   ],
   "source": [
    "# see what the transformed data looks like\n",
    "df_crc_young"
   ]
  },
  {
   "cell_type": "markdown",
   "id": "c739e2e6-3b61-4e50-bbc5-751a0d03e583",
   "metadata": {},
   "source": [
    "**Now write the code to compute these values for older people with colorectal cancer and older and younger people with lung cancer**"
   ]
  },
  {
   "cell_type": "code",
   "execution_count": 26,
   "id": "2dd44406-5cd3-4c90-93ed-4cfacf5f3eaf",
   "metadata": {},
   "outputs": [],
   "source": [
    "df_crc_old = (\n",
    "    df_cleaner\n",
    "    .filter('data_typer', 'equals', 'Actual')\n",
    "    .filter('icd10_subsite', 'in', icd_crc)\n",
    "    .filter('age_group', 'in', age_groups_old)\n",
    "    .groupby(['year', 'sex'], 'num_cases', 'sum')\n",
    "    .add_column('cancer_type', 'crc')\n",
    "    .add_column('cohort', 'old'))\n",
    "\n",
    "df_lung_young = (\n",
    "    df_cleaner\n",
    "    .filter('data_typer', 'equals', 'Actual')\n",
    "    .filter('icd10_subsite', 'equals', icd_lung)\n",
    "    .filter('age_group', 'in', age_groups_young)\n",
    "    .groupby(['year', 'sex'], 'num_cases', 'sum')\n",
    "    .add_column('cancer_type', 'lung')\n",
    "    .add_column('cohort', 'young')\n",
    ")\n",
    "\n",
    "df_lung_old = (\n",
    "    df_cleaner\n",
    "    .filter('data_typer', 'equals', 'Actual')\n",
    "    .filter('icd10_subsite', 'equals', icd_lung)\n",
    "    .filter('age_group', 'in', age_groups_old)\n",
    "    .groupby(['year', 'sex'], 'num_cases', 'sum')\n",
    "    .add_column('cancer_type', 'lung')\n",
    "    .add_column('cohort', 'old')\n",
    ")\n",
    "\n",
    "# combine all the results\n",
    "df_results = pd.concat([df_crc_young, df_crc_old, df_lung_young, df_lung_old])"
   ]
  },
  {
   "cell_type": "markdown",
   "id": "13a7ca1b-6d42-4416-9a1c-e798c191919b",
   "metadata": {},
   "source": [
    "### 3.2. Plot the results\n",
    "\n",
    "We will discuss descriptive statistics and visualisation in a later module. For now, you can run the code in the following two code blocks to see a plot of how the number of cases is changing over time.\n",
    "\n",
    "**Run the following code cell. What do you notice about the graphs for colorectal and lung cancers for young and older people?**"
   ]
  },
  {
   "cell_type": "code",
   "execution_count": 27,
   "id": "177b9986-9f71-454c-a878-acd40591c7f9",
   "metadata": {},
   "outputs": [
    {
     "data": {
      "image/png": "[encoded data removed]",
      "text/plain": [
       "<Figure size 913.625x800 with 4 Axes>"
      ]
     },
     "metadata": {},
     "output_type": "display_data"
    }
   ],
   "source": [
    "# Create facet grid with cohort as columns, cancer_type as rows\n",
    "g = sns.FacetGrid(\n",
    "    df_results,\n",
    "    row=\"cancer_type\",   # separate row for each cancer type\n",
    "    col=\"cohort\",        # separate column for each cohort\n",
    "    height=4,\n",
    "    aspect=1\n",
    ")\n",
    "\n",
    "# Map the lineplots\n",
    "g.map_dataframe(sns.lineplot, x=\"year\", y=\"num_cases\", hue=\"sex\")\n",
    "\n",
    "# Adjust labels and titles\n",
    "g.set_axis_labels(\"Year\", \"Number of cancer cases\")\n",
    "g.set_titles(row_template=\"{row_name}\", col_template=\"{col_name}\")\n",
    "g.add_legend()\n",
    "\n",
    "# Overall title\n",
    "plt.subplots_adjust(top=0.9)  # give space for suptitle\n",
    "g.fig.suptitle(\"Cancer diagnoses by type, cohort, and sex\")\n",
    "\n",
    "plt.show()"
   ]
  },
  {
   "cell_type": "markdown",
   "id": "b3ef9e82-9a28-41b8-8b8f-decb9d99217e",
   "metadata": {},
   "source": [
    "### 3.3. Return to the initial question: Have we answered it?\n",
    "\n",
    "It's easy (and fun) to get lost in the data, transforming, analysing and visualising it. But we should keep it mind what the originally query was asking. \n",
    "\n",
    "We expect that the absolute number of cases will increase over time, since as the population increases from 2000 to 2024, there will likely be a larger number of people who are diagnosed with cancer. So perhaps the increase is, at least to some extent, driven by the increasing population. \n",
    "\n",
    "We will instead calculate the *age-standardised rate* of cases. We won't go into detail about how this is derived, but this essentially divides the number by the population in that age group so that we are able to compare the number when the population structure has changed.\n",
    "\n",
    "**Run the following three code cells**"
   ]
  },
  {
   "cell_type": "code",
   "execution_count": 28,
   "id": "0540f503-275f-4d5b-8f61-736eb3ab51ec",
   "metadata": {},
   "outputs": [],
   "source": [
    "df_abs = pd.read_csv('abs_young_people_counts.csv')"
   ]
  },
  {
   "cell_type": "code",
   "execution_count": 29,
   "id": "8f5d0074-28ae-45c5-a8b9-ed9d8494a5c2",
   "metadata": {},
   "outputs": [],
   "source": [
    "df_final = (\n",
    "    df_results\n",
    "    .merge(df_abs, left_on=['year', 'sex'], right_on=['year', 'cohort'], how='left')\n",
    "    .assign(rate=lambda df_: df_.num_cases / df_.total_people * 100000)\n",
    ")"
   ]
  },
  {
   "cell_type": "code",
   "execution_count": 30,
   "id": "2e81c6f0-c39d-4bad-9d4d-cd6b76655377",
   "metadata": {},
   "outputs": [
    {
     "data": {
      "image/png": "[encoded data removed]",
      "text/plain": [
       "<Figure size 913.625x800 with 4 Axes>"
      ]
     },
     "metadata": {},
     "output_type": "display_data"
    }
   ],
   "source": [
    "# Create facet grid: rows for cancer type, columns for cohort_x\n",
    "g = sns.FacetGrid(\n",
    "    df_final,\n",
    "    row=\"cancer_type\",\n",
    "    col=\"cohort_x\",\n",
    "    height=4,\n",
    "    aspect=1\n",
    ")\n",
    "\n",
    "# Map lineplots\n",
    "g.map_dataframe(sns.lineplot, x=\"year\", y=\"rate\", hue=\"sex\")\n",
    "\n",
    "# Axis labels, titles, legend\n",
    "g.set_axis_labels(\"Year\", \"Cancer diagnosis age standardised rate\\n(cases per 100,000)\")\n",
    "g.set_titles(row_template=\"{row_name}\", col_template=\"{col_name}\")\n",
    "g.add_legend()\n",
    "\n",
    "# Set consistent y-limit across all facets\n",
    "g.set(ylim=(0, 20))\n",
    "\n",
    "# Overall title\n",
    "plt.subplots_adjust(top=0.9)\n",
    "g.fig.suptitle(\"Cancer diagnosis rates by type, cohort, and sex\")\n",
    "\n",
    "plt.show()"
   ]
  },
  {
   "cell_type": "markdown",
   "id": "8c35a325-c47b-4c28-865f-9a1b7d8832f2",
   "metadata": {},
   "source": [
    "## Activity 4: translating the results back to clinical language"
   ]
  },
  {
   "cell_type": "markdown",
   "id": "afbd4596-4090-47d2-9b12-892a6b77b287",
   "metadata": {},
   "source": [
    "### Activity 4.1. What have you found?\n",
    "\n",
    "Keeping in mind the original query \"How is the incidence of colorectal cancer in Australia changing over time?\", **describe your findings, including:**\n",
    "\n",
    "- Which charts you think would best illustrate your response to the query\n",
    "- Any caveats or assumptions that need to be communicated to avoid misunderstandings\n",
    "- Any ways that the data has limited your ability to respond to the query**"
   ]
  },
  {
   "cell_type": "markdown",
   "id": "2d2ca07c-ac09-4106-bedd-4e33debf88d2",
   "metadata": {},
   "source": [
    "## (Optional) Bonus Activity: Geospatial analysis of colorectal cancer rates\n",
    "\n",
    "Let's look at how the incidence of colorectal cancer cases vary throughout Australia"
   ]
  },
  {
   "cell_type": "code",
   "execution_count": 28,
   "id": "9fcfeaba-e4c9-4317-af33-24f5a6044a54",
   "metadata": {},
   "outputs": [],
   "source": [
    "import geopandas as gpd\n",
    "import folium"
   ]
  },
  {
   "cell_type": "code",
   "execution_count": 77,
   "id": "7754fe18-62a7-44ce-b2c4-2af5cc7f8296",
   "metadata": {},
   "outputs": [],
   "source": [
    "gdf = gpd.read_file('data/SA2_2016_AUST.shp')"
   ]
  },
  {
   "cell_type": "code",
   "execution_count": 72,
   "id": "204e0f8f-5a99-43e6-b5ab-bee1703521e3",
   "metadata": {},
   "outputs": [],
   "source": [
    "df_cancer_data = pd.read_excel('data/ACA 2 - Diagnosis change over time estimates.xlsx', \n",
    "                               sheet_name='Bowel cancer - invasive').query('Years == 2019')"
   ]
  },
  {
   "cell_type": "code",
   "execution_count": 73,
   "id": "67b8f8a0-eac0-4f93-8199-04a07b949946",
   "metadata": {},
   "outputs": [],
   "source": [
    "gdf2 = (\n",
    "    gdf\n",
    "    .merge(df_cancer_data, left_on='SA2_NAME16', right_on='SA2 name')\n",
    "    .loc[:, ['SA2 code', 'SA2 name', 'Years', 'Estimate - Persons', 'geometry']]\n",
    "    .rename(columns={'SA2 code': 'sa2_code', 'SA2 name': 'sa2_name', 'Years': 'year', 'Estimate - Persons': 'relative risk'})\n",
    ")"
   ]
  },
  {
   "cell_type": "code",
   "execution_count": null,
   "id": "590845c5-3be9-496f-a236-b226f7f10835",
   "metadata": {},
   "outputs": [],
   "source": [
    "# Create base map (centered on your data)\n",
    "m = folium.Map(location=[-37.34,\n",
    "                         143],\n",
    "               zoom_start=8)\n",
    "\n",
    "# Add choropleth\n",
    "folium.Choropleth(\n",
    "    geo_data=gdf2.to_json(),\n",
    "    data=gdf2,\n",
    "    columns=['sa2_code', 'relative risk'],\n",
    "    key_on='feature.properties.sa2_code',\n",
    "    fill_color='YlOrRd',\n",
    "    fill_opacity=0.7,\n",
    "    line_opacity=0.2,\n",
    "    legend_name='Value'\n",
    ").add_to(m)"
   ]
  },
  {
   "cell_type": "code",
   "execution_count": null,
   "id": "946e9920-5537-4fac-b3a1-3af2bc57db73",
   "metadata": {},
   "outputs": [],
   "source": [
    "m"
   ]
  },
  {
   "cell_type": "markdown",
   "id": "e9b6fde1-97c2-45db-aeb0-0ddf3848ed0d",
   "metadata": {},
   "source": [
    "## (Optional) Another Bonus Activity: Data transformation practice"
   ]
  },
  {
   "cell_type": "code",
   "execution_count": 2,
   "id": "c66fcb56-2ce8-444d-93af-1a77bb7c3c86",
   "metadata": {},
   "outputs": [],
   "source": [
    "import numpy as np\n",
    "import pandas as pd\n",
    "\n",
    "import matplotlib.pyplot as plt\n",
    "import seaborn as sns\n",
    "\n",
    "from easypandas import EasyDataFrame\n",
    "from d2k_utils_2025 import get_month, get_year, get_day_of_week\n",
    "\n",
    "sns.set()\n",
    "%matplotlib inline"
   ]
  },
  {
   "cell_type": "code",
   "execution_count": 3,
   "id": "daec1195-e22b-4609-a62b-e4164e6df259",
   "metadata": {},
   "outputs": [],
   "source": [
    "# fictitious blood test results\n",
    "df = EasyDataFrame(data={'patientid': [1, 1, 1, 2, 2, 3, 3], \n",
    "                         'date': ['24-09-2013', '15-11-2013', '06-06-2014', '01-09-2016', '06-09-2016', '31-08-2000', '29-08-2001'], \n",
    "                         'blood_test_name': ['Haemoglobin', 'Haemoglobin', 'Platelets', 'Haemoglobin', 'Haemoglobin', 'Platelets', 'WCC'],\n",
    "                         'blood_test_result': [154, 149, 226, 132, 139, 250, 6.2]})\n",
    "\n",
    "# convert dates to datetime values\n",
    "df = df.assign(date=lambda df_: pd.to_datetime(df_.date, dayfirst=True))\n",
    "\n",
    "# patient postcode information\n",
    "df2 = EasyDataFrame(data={'patientid': [1, 2, 3], 'postcode': [3000, 3078, 3056]})"
   ]
  },
  {
   "cell_type": "code",
   "execution_count": 4,
   "id": "b7223909-1f16-402d-9ade-d086055a9ce9",
   "metadata": {},
   "outputs": [
    {
     "data": {
      "text/html": [
       "<div>\n",
       "<style scoped>\n",
       "    .dataframe tbody tr th:only-of-type {\n",
       "        vertical-align: middle;\n",
       "    }\n",
       "\n",
       "    .dataframe tbody tr th {\n",
       "        vertical-align: top;\n",
       "    }\n",
       "\n",
       "    .dataframe thead th {\n",
       "        text-align: right;\n",
       "    }\n",
       "</style>\n",
       "<table border=\"1\" class=\"dataframe\">\n",
       "  <thead>\n",
       "    <tr style=\"text-align: right;\">\n",
       "      <th></th>\n",
       "      <th>patientid</th>\n",
       "      <th>date</th>\n",
       "      <th>blood_test_name</th>\n",
       "      <th>blood_test_result</th>\n",
       "    </tr>\n",
       "  </thead>\n",
       "  <tbody>\n",
       "    <tr>\n",
       "      <th>0</th>\n",
       "      <td>1</td>\n",
       "      <td>2013-09-24</td>\n",
       "      <td>Haemoglobin</td>\n",
       "      <td>154.0</td>\n",
       "    </tr>\n",
       "    <tr>\n",
       "      <th>1</th>\n",
       "      <td>1</td>\n",
       "      <td>2013-11-15</td>\n",
       "      <td>Haemoglobin</td>\n",
       "      <td>149.0</td>\n",
       "    </tr>\n",
       "    <tr>\n",
       "      <th>2</th>\n",
       "      <td>1</td>\n",
       "      <td>2014-06-06</td>\n",
       "      <td>Platelets</td>\n",
       "      <td>226.0</td>\n",
       "    </tr>\n",
       "    <tr>\n",
       "      <th>3</th>\n",
       "      <td>2</td>\n",
       "      <td>2016-09-01</td>\n",
       "      <td>Haemoglobin</td>\n",
       "      <td>132.0</td>\n",
       "    </tr>\n",
       "    <tr>\n",
       "      <th>4</th>\n",
       "      <td>2</td>\n",
       "      <td>2016-09-06</td>\n",
       "      <td>Haemoglobin</td>\n",
       "      <td>139.0</td>\n",
       "    </tr>\n",
       "    <tr>\n",
       "      <th>5</th>\n",
       "      <td>3</td>\n",
       "      <td>2000-08-31</td>\n",
       "      <td>Platelets</td>\n",
       "      <td>250.0</td>\n",
       "    </tr>\n",
       "    <tr>\n",
       "      <th>6</th>\n",
       "      <td>3</td>\n",
       "      <td>2001-08-29</td>\n",
       "      <td>WCC</td>\n",
       "      <td>6.2</td>\n",
       "    </tr>\n",
       "  </tbody>\n",
       "</table>\n",
       "</div>"
      ],
      "text/plain": [
       "   patientid       date blood_test_name  blood_test_result\n",
       "0          1 2013-09-24     Haemoglobin              154.0\n",
       "1          1 2013-11-15     Haemoglobin              149.0\n",
       "2          1 2014-06-06       Platelets              226.0\n",
       "3          2 2016-09-01     Haemoglobin              132.0\n",
       "4          2 2016-09-06     Haemoglobin              139.0\n",
       "5          3 2000-08-31       Platelets              250.0\n",
       "6          3 2001-08-29             WCC                6.2"
      ]
     },
     "execution_count": 4,
     "metadata": {},
     "output_type": "execute_result"
    }
   ],
   "source": [
    "df"
   ]
  },
  {
   "cell_type": "code",
   "execution_count": 5,
   "id": "197090ef-330c-4625-bfc7-0c9ab79cad4d",
   "metadata": {},
   "outputs": [
    {
     "data": {
      "text/html": [
       "<div>\n",
       "<style scoped>\n",
       "    .dataframe tbody tr th:only-of-type {\n",
       "        vertical-align: middle;\n",
       "    }\n",
       "\n",
       "    .dataframe tbody tr th {\n",
       "        vertical-align: top;\n",
       "    }\n",
       "\n",
       "    .dataframe thead th {\n",
       "        text-align: right;\n",
       "    }\n",
       "</style>\n",
       "<table border=\"1\" class=\"dataframe\">\n",
       "  <thead>\n",
       "    <tr style=\"text-align: right;\">\n",
       "      <th></th>\n",
       "      <th>patientid</th>\n",
       "      <th>postcode</th>\n",
       "    </tr>\n",
       "  </thead>\n",
       "  <tbody>\n",
       "    <tr>\n",
       "      <th>0</th>\n",
       "      <td>1</td>\n",
       "      <td>3000</td>\n",
       "    </tr>\n",
       "    <tr>\n",
       "      <th>1</th>\n",
       "      <td>2</td>\n",
       "      <td>3078</td>\n",
       "    </tr>\n",
       "    <tr>\n",
       "      <th>2</th>\n",
       "      <td>3</td>\n",
       "      <td>3056</td>\n",
       "    </tr>\n",
       "  </tbody>\n",
       "</table>\n",
       "</div>"
      ],
      "text/plain": [
       "   patientid  postcode\n",
       "0          1      3000\n",
       "1          2      3078\n",
       "2          3      3056"
      ]
     },
     "execution_count": 5,
     "metadata": {},
     "output_type": "execute_result"
    }
   ],
   "source": [
    "df2"
   ]
  },
  {
   "cell_type": "markdown",
   "id": "3872f39b-6e8d-423c-8701-968bd32995b8",
   "metadata": {},
   "source": [
    "**Question 1: join the table of blood test results to the patient table**"
   ]
  },
  {
   "cell_type": "code",
   "execution_count": 8,
   "id": "ba45c691-66d8-499a-8971-adae26d63f01",
   "metadata": {},
   "outputs": [
    {
     "data": {
      "text/html": [
       "<div>\n",
       "<style scoped>\n",
       "    .dataframe tbody tr th:only-of-type {\n",
       "        vertical-align: middle;\n",
       "    }\n",
       "\n",
       "    .dataframe tbody tr th {\n",
       "        vertical-align: top;\n",
       "    }\n",
       "\n",
       "    .dataframe thead th {\n",
       "        text-align: right;\n",
       "    }\n",
       "</style>\n",
       "<table border=\"1\" class=\"dataframe\">\n",
       "  <thead>\n",
       "    <tr style=\"text-align: right;\">\n",
       "      <th></th>\n",
       "      <th>patientid</th>\n",
       "      <th>date</th>\n",
       "      <th>blood_test_name</th>\n",
       "      <th>blood_test_result</th>\n",
       "      <th>postcode</th>\n",
       "    </tr>\n",
       "  </thead>\n",
       "  <tbody>\n",
       "    <tr>\n",
       "      <th>0</th>\n",
       "      <td>1</td>\n",
       "      <td>2013-09-24</td>\n",
       "      <td>Haemoglobin</td>\n",
       "      <td>154.0</td>\n",
       "      <td>3000</td>\n",
       "    </tr>\n",
       "    <tr>\n",
       "      <th>1</th>\n",
       "      <td>1</td>\n",
       "      <td>2013-11-15</td>\n",
       "      <td>Haemoglobin</td>\n",
       "      <td>149.0</td>\n",
       "      <td>3000</td>\n",
       "    </tr>\n",
       "    <tr>\n",
       "      <th>2</th>\n",
       "      <td>1</td>\n",
       "      <td>2014-06-06</td>\n",
       "      <td>Platelets</td>\n",
       "      <td>226.0</td>\n",
       "      <td>3000</td>\n",
       "    </tr>\n",
       "    <tr>\n",
       "      <th>3</th>\n",
       "      <td>2</td>\n",
       "      <td>2016-09-01</td>\n",
       "      <td>Haemoglobin</td>\n",
       "      <td>132.0</td>\n",
       "      <td>3078</td>\n",
       "    </tr>\n",
       "    <tr>\n",
       "      <th>4</th>\n",
       "      <td>2</td>\n",
       "      <td>2016-09-06</td>\n",
       "      <td>Haemoglobin</td>\n",
       "      <td>139.0</td>\n",
       "      <td>3078</td>\n",
       "    </tr>\n",
       "    <tr>\n",
       "      <th>5</th>\n",
       "      <td>3</td>\n",
       "      <td>2000-08-31</td>\n",
       "      <td>Platelets</td>\n",
       "      <td>250.0</td>\n",
       "      <td>3056</td>\n",
       "    </tr>\n",
       "    <tr>\n",
       "      <th>6</th>\n",
       "      <td>3</td>\n",
       "      <td>2001-08-29</td>\n",
       "      <td>WCC</td>\n",
       "      <td>6.2</td>\n",
       "      <td>3056</td>\n",
       "    </tr>\n",
       "  </tbody>\n",
       "</table>\n",
       "</div>"
      ],
      "text/plain": [
       "   patientid       date blood_test_name  blood_test_result  postcode\n",
       "0          1 2013-09-24     Haemoglobin              154.0      3000\n",
       "1          1 2013-11-15     Haemoglobin              149.0      3000\n",
       "2          1 2014-06-06       Platelets              226.0      3000\n",
       "3          2 2016-09-01     Haemoglobin              132.0      3078\n",
       "4          2 2016-09-06     Haemoglobin              139.0      3078\n",
       "5          3 2000-08-31       Platelets              250.0      3056\n",
       "6          3 2001-08-29             WCC                6.2      3056"
      ]
     },
     "execution_count": 8,
     "metadata": {},
     "output_type": "execute_result"
    }
   ],
   "source": [
    "df_new = df.join(df2, left_on='patientid', right_on='patientid', how='left')\n",
    "df_new"
   ]
  },
  {
   "cell_type": "markdown",
   "id": "0b239b2e-683e-447b-823f-e0d22e62a694",
   "metadata": {},
   "source": [
    "**Question 2: Get the maximum blood test result for each blood test, then sort from smallest to largest**"
   ]
  },
  {
   "cell_type": "code",
   "execution_count": 10,
   "id": "4b29d882-88f7-46a1-bf4a-7f8f6b3bf461",
   "metadata": {},
   "outputs": [
    {
     "data": {
      "text/html": [
       "<div>\n",
       "<style scoped>\n",
       "    .dataframe tbody tr th:only-of-type {\n",
       "        vertical-align: middle;\n",
       "    }\n",
       "\n",
       "    .dataframe tbody tr th {\n",
       "        vertical-align: top;\n",
       "    }\n",
       "\n",
       "    .dataframe thead th {\n",
       "        text-align: right;\n",
       "    }\n",
       "</style>\n",
       "<table border=\"1\" class=\"dataframe\">\n",
       "  <thead>\n",
       "    <tr style=\"text-align: right;\">\n",
       "      <th></th>\n",
       "      <th>blood_test_name</th>\n",
       "      <th>blood_test_result</th>\n",
       "    </tr>\n",
       "  </thead>\n",
       "  <tbody>\n",
       "    <tr>\n",
       "      <th>2</th>\n",
       "      <td>WCC</td>\n",
       "      <td>6.2</td>\n",
       "    </tr>\n",
       "    <tr>\n",
       "      <th>0</th>\n",
       "      <td>Haemoglobin</td>\n",
       "      <td>154.0</td>\n",
       "    </tr>\n",
       "    <tr>\n",
       "      <th>1</th>\n",
       "      <td>Platelets</td>\n",
       "      <td>250.0</td>\n",
       "    </tr>\n",
       "  </tbody>\n",
       "</table>\n",
       "</div>"
      ],
      "text/plain": [
       "  blood_test_name  blood_test_result\n",
       "2             WCC                6.2\n",
       "0     Haemoglobin              154.0\n",
       "1       Platelets              250.0"
      ]
     },
     "execution_count": 10,
     "metadata": {},
     "output_type": "execute_result"
    }
   ],
   "source": [
    "df_new.groupby('blood_test_name', 'blood_test_result', 'max').sort('blood_test_result')"
   ]
  },
  {
   "cell_type": "markdown",
   "id": "654a912f-319c-4aea-8a42-d2076e56d8d9",
   "metadata": {},
   "source": [
    "**Question 3: Filter the data to haemoglobin results, then sort by patientid in reverse order**"
   ]
  },
  {
   "cell_type": "code",
   "execution_count": 20,
   "id": "05aec478-bd44-487f-8a4d-a3cd9489753d",
   "metadata": {},
   "outputs": [
    {
     "data": {
      "text/html": [
       "<div>\n",
       "<style scoped>\n",
       "    .dataframe tbody tr th:only-of-type {\n",
       "        vertical-align: middle;\n",
       "    }\n",
       "\n",
       "    .dataframe tbody tr th {\n",
       "        vertical-align: top;\n",
       "    }\n",
       "\n",
       "    .dataframe thead th {\n",
       "        text-align: right;\n",
       "    }\n",
       "</style>\n",
       "<table border=\"1\" class=\"dataframe\">\n",
       "  <thead>\n",
       "    <tr style=\"text-align: right;\">\n",
       "      <th></th>\n",
       "      <th>patientid</th>\n",
       "      <th>date</th>\n",
       "      <th>blood_test_name</th>\n",
       "      <th>blood_test_result</th>\n",
       "      <th>postcode</th>\n",
       "    </tr>\n",
       "  </thead>\n",
       "  <tbody>\n",
       "    <tr>\n",
       "      <th>3</th>\n",
       "      <td>2</td>\n",
       "      <td>2016-09-01</td>\n",
       "      <td>Haemoglobin</td>\n",
       "      <td>132.0</td>\n",
       "      <td>3078</td>\n",
       "    </tr>\n",
       "    <tr>\n",
       "      <th>4</th>\n",
       "      <td>2</td>\n",
       "      <td>2016-09-06</td>\n",
       "      <td>Haemoglobin</td>\n",
       "      <td>139.0</td>\n",
       "      <td>3078</td>\n",
       "    </tr>\n",
       "    <tr>\n",
       "      <th>0</th>\n",
       "      <td>1</td>\n",
       "      <td>2013-09-24</td>\n",
       "      <td>Haemoglobin</td>\n",
       "      <td>154.0</td>\n",
       "      <td>3000</td>\n",
       "    </tr>\n",
       "    <tr>\n",
       "      <th>1</th>\n",
       "      <td>1</td>\n",
       "      <td>2013-11-15</td>\n",
       "      <td>Haemoglobin</td>\n",
       "      <td>149.0</td>\n",
       "      <td>3000</td>\n",
       "    </tr>\n",
       "  </tbody>\n",
       "</table>\n",
       "</div>"
      ],
      "text/plain": [
       "   patientid       date blood_test_name  blood_test_result  postcode\n",
       "3          2 2016-09-01     Haemoglobin              132.0      3078\n",
       "4          2 2016-09-06     Haemoglobin              139.0      3078\n",
       "0          1 2013-09-24     Haemoglobin              154.0      3000\n",
       "1          1 2013-11-15     Haemoglobin              149.0      3000"
      ]
     },
     "execution_count": 20,
     "metadata": {},
     "output_type": "execute_result"
    }
   ],
   "source": [
    "df_new.filter('blood_test_name', 'equals', 'Haemoglobin').sort('patientid', ordering='descending')"
   ]
  },
  {
   "cell_type": "markdown",
   "id": "3b7f3f63-a759-4c59-bb4e-e88fde51bdc7",
   "metadata": {},
   "source": [
    "**Question 4: select the blood test name and result columns and then add a new column that labels the rows**"
   ]
  },
  {
   "cell_type": "code",
   "execution_count": 23,
   "id": "69da9ce5-5cd0-4ea3-8625-1d817552ad79",
   "metadata": {},
   "outputs": [
    {
     "data": {
      "text/html": [
       "<div>\n",
       "<style scoped>\n",
       "    .dataframe tbody tr th:only-of-type {\n",
       "        vertical-align: middle;\n",
       "    }\n",
       "\n",
       "    .dataframe tbody tr th {\n",
       "        vertical-align: top;\n",
       "    }\n",
       "\n",
       "    .dataframe thead th {\n",
       "        text-align: right;\n",
       "    }\n",
       "</style>\n",
       "<table border=\"1\" class=\"dataframe\">\n",
       "  <thead>\n",
       "    <tr style=\"text-align: right;\">\n",
       "      <th></th>\n",
       "      <th>blood_test_name</th>\n",
       "      <th>blood_test_result</th>\n",
       "      <th>row_number</th>\n",
       "    </tr>\n",
       "  </thead>\n",
       "  <tbody>\n",
       "    <tr>\n",
       "      <th>0</th>\n",
       "      <td>Haemoglobin</td>\n",
       "      <td>154.0</td>\n",
       "      <td>1</td>\n",
       "    </tr>\n",
       "    <tr>\n",
       "      <th>1</th>\n",
       "      <td>Haemoglobin</td>\n",
       "      <td>149.0</td>\n",
       "      <td>2</td>\n",
       "    </tr>\n",
       "    <tr>\n",
       "      <th>2</th>\n",
       "      <td>Platelets</td>\n",
       "      <td>226.0</td>\n",
       "      <td>3</td>\n",
       "    </tr>\n",
       "    <tr>\n",
       "      <th>3</th>\n",
       "      <td>Haemoglobin</td>\n",
       "      <td>132.0</td>\n",
       "      <td>4</td>\n",
       "    </tr>\n",
       "    <tr>\n",
       "      <th>4</th>\n",
       "      <td>Haemoglobin</td>\n",
       "      <td>139.0</td>\n",
       "      <td>5</td>\n",
       "    </tr>\n",
       "    <tr>\n",
       "      <th>5</th>\n",
       "      <td>Platelets</td>\n",
       "      <td>250.0</td>\n",
       "      <td>6</td>\n",
       "    </tr>\n",
       "    <tr>\n",
       "      <th>6</th>\n",
       "      <td>WCC</td>\n",
       "      <td>6.2</td>\n",
       "      <td>7</td>\n",
       "    </tr>\n",
       "  </tbody>\n",
       "</table>\n",
       "</div>"
      ],
      "text/plain": [
       "  blood_test_name  blood_test_result  row_number\n",
       "0     Haemoglobin              154.0           1\n",
       "1     Haemoglobin              149.0           2\n",
       "2       Platelets              226.0           3\n",
       "3     Haemoglobin              132.0           4\n",
       "4     Haemoglobin              139.0           5\n",
       "5       Platelets              250.0           6\n",
       "6             WCC                6.2           7"
      ]
     },
     "execution_count": 23,
     "metadata": {},
     "output_type": "execute_result"
    }
   ],
   "source": [
    "df_new.select(['blood_test_name', 'blood_test_result']).add_column('row_number', [1, 2, 3, 4, 5, 6, 7])"
   ]
  }
 ],
 "metadata": {
  "kernelspec": {
   "display_name": "address_experiments",
   "language": "python",
   "name": "address_experiments"
  },
  "language_info": {
   "codemirror_mode": {
    "name": "ipython",
    "version": 3
   },
   "file_extension": ".py",
   "mimetype": "text/x-python",
   "name": "python",
   "nbconvert_exporter": "python",
   "pygments_lexer": "ipython3",
   "version": "3.10.16"
  }
 },
 "nbformat": 4,
 "nbformat_minor": 5
}
