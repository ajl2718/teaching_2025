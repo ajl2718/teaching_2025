{
 "cells": [
  {
   "cell_type": "markdown",
   "id": "6f523fb8-7295-49b3-bc84-d4af068a1d61",
   "metadata": {
    "editable": true,
    "slideshow": {
     "slide_type": ""
    },
    "tags": []
   },
   "source": [
    "#  Data operations and transformations\n",
    "\n",
    "**Reminder:** If you haven't completed 'Support information: Using Jupyter notebooks' from the Course essentials & support material module. Do so now.\n",
    "\n",
    "This notebook illustrates how to use the Easy Pandas package to implement several different data transformations. The operations we will cover are:\n",
    "- **filter**: filters the dataframe to a subset of rows that meet a particular condition\n",
    "- **select**: select a subset of columns\n",
    "- **sort**: order the dataframe based on the values in a specific column\n",
    "- **groupby**: split the dataframe into groups, apply an aggregate function to a column within each group and then combine\n",
    "- **add_column**: add a column to the dataframe with a specific set of values\n",
    "- **add_derived_column**: add a column to the dataframe with values derived from another column\n",
    "- **join**: join one dataframe to another\n",
    "\n"
   ]
  },
  {
   "cell_type": "markdown",
   "id": "2d11093d-1486-4604-a7cb-913cd150a39d",
   "metadata": {},
   "source": [
    "## 0. Create some data\n",
    "\n",
    "The following code block creates the same table that is described in the data transformations section of the course materials. Let's create it and see what it looks like.\n",
    "\n",
    "\n",
    "**Select** the cell below and hit the ▶️ **Run** button found in the toolbar above (you can also type 'Shift-Enter' to run cells you have selected)."
   ]
  },
  {
   "cell_type": "code",
   "execution_count": 1,
   "id": "407baa2f-b4e8-4dfc-92b0-c79c9bab1b26",
   "metadata": {},
   "outputs": [
    {
     "name": "stderr",
     "output_type": "stream",
     "text": [
      "/tmp/ipykernel_317/3798091713.py:32: UserWarning: Parsing dates in %Y-%m-%d format when dayfirst=True was specified. Pass `dayfirst=False` or specify a format to silence this warning.\n",
      "  pathology_test_data[\"Date\"] = pd.to_datetime(pathology_test_data[\"Date\"], dayfirst=True, errors='coerce')\n"
     ]
    },
    {
     "data": {
      "text/html": [
       "<div>\n",
       "<style scoped>\n",
       "    .dataframe tbody tr th:only-of-type {\n",
       "        vertical-align: middle;\n",
       "    }\n",
       "\n",
       "    .dataframe tbody tr th {\n",
       "        vertical-align: top;\n",
       "    }\n",
       "\n",
       "    .dataframe thead th {\n",
       "        text-align: right;\n",
       "    }\n",
       "</style>\n",
       "<table border=\"1\" class=\"dataframe\">\n",
       "  <thead>\n",
       "    <tr style=\"text-align: right;\">\n",
       "      <th></th>\n",
       "      <th>Patientid</th>\n",
       "      <th>Date</th>\n",
       "      <th>Test name</th>\n",
       "      <th>Test result</th>\n",
       "      <th>Test units</th>\n",
       "    </tr>\n",
       "  </thead>\n",
       "  <tbody>\n",
       "    <tr>\n",
       "      <th>0</th>\n",
       "      <td>1</td>\n",
       "      <td>2010-11-20</td>\n",
       "      <td>Haemoglobin</td>\n",
       "      <td>154</td>\n",
       "      <td>g/L</td>\n",
       "    </tr>\n",
       "    <tr>\n",
       "      <th>1</th>\n",
       "      <td>1</td>\n",
       "      <td>2009-01-15</td>\n",
       "      <td>Haemoglobin</td>\n",
       "      <td>132</td>\n",
       "      <td>g/L</td>\n",
       "    </tr>\n",
       "    <tr>\n",
       "      <th>2</th>\n",
       "      <td>2</td>\n",
       "      <td>2010-07-14</td>\n",
       "      <td>Platelets</td>\n",
       "      <td>320</td>\n",
       "      <td>N/nL</td>\n",
       "    </tr>\n",
       "    <tr>\n",
       "      <th>3</th>\n",
       "      <td>3</td>\n",
       "      <td>2010-07-01</td>\n",
       "      <td>Haemoglobin</td>\n",
       "      <td>145</td>\n",
       "      <td>g/L</td>\n",
       "    </tr>\n",
       "    <tr>\n",
       "      <th>4</th>\n",
       "      <td>6</td>\n",
       "      <td>2010-06-08</td>\n",
       "      <td>Haemoglobin</td>\n",
       "      <td>165</td>\n",
       "      <td>g/L</td>\n",
       "    </tr>\n",
       "    <tr>\n",
       "      <th>5</th>\n",
       "      <td>4</td>\n",
       "      <td>2011-02-02</td>\n",
       "      <td>Haemoglobin</td>\n",
       "      <td>157</td>\n",
       "      <td>g/L</td>\n",
       "    </tr>\n",
       "    <tr>\n",
       "      <th>6</th>\n",
       "      <td>5</td>\n",
       "      <td>2010-09-21</td>\n",
       "      <td>Haemoglobin</td>\n",
       "      <td>157</td>\n",
       "      <td>g/L</td>\n",
       "    </tr>\n",
       "    <tr>\n",
       "      <th>7</th>\n",
       "      <td>4</td>\n",
       "      <td>2009-03-03</td>\n",
       "      <td>Haemoglobin</td>\n",
       "      <td>139</td>\n",
       "      <td>g/L</td>\n",
       "    </tr>\n",
       "    <tr>\n",
       "      <th>8</th>\n",
       "      <td>7</td>\n",
       "      <td>2010-10-12</td>\n",
       "      <td>Platelets</td>\n",
       "      <td>275</td>\n",
       "      <td>N/nL</td>\n",
       "    </tr>\n",
       "    <tr>\n",
       "      <th>9</th>\n",
       "      <td>8</td>\n",
       "      <td>2011-12-21</td>\n",
       "      <td>Haemoglobin</td>\n",
       "      <td>170</td>\n",
       "      <td>g/L</td>\n",
       "    </tr>\n",
       "  </tbody>\n",
       "</table>\n",
       "</div>"
      ],
      "text/plain": [
       "   Patientid       Date    Test name Test result Test units\n",
       "0          1 2010-11-20  Haemoglobin         154        g/L\n",
       "1          1 2009-01-15  Haemoglobin         132        g/L\n",
       "2          2 2010-07-14    Platelets         320       N/nL\n",
       "3          3 2010-07-01  Haemoglobin         145        g/L\n",
       "4          6 2010-06-08  Haemoglobin         165        g/L\n",
       "5          4 2011-02-02  Haemoglobin         157        g/L\n",
       "6          5 2010-09-21  Haemoglobin         157        g/L\n",
       "7          4 2009-03-03  Haemoglobin         139        g/L\n",
       "8          7 2010-10-12    Platelets         275       N/nL\n",
       "9          8 2011-12-21  Haemoglobin         170        g/L"
      ]
     },
     "execution_count": 1,
     "metadata": {},
     "output_type": "execute_result"
    }
   ],
   "source": [
    "# First we should import all the packages we need\n",
    "import numpy as np\n",
    "import pandas as pd\n",
    "import sys\n",
    "sys.path.append('/mnt/data')\n",
    "from easypandas import EasyDataFrame\n",
    "\n",
    "\n",
    "# Second we will define the dataset\n",
    "data = {\n",
    "    \"Patientid\": [1, 1, 2, 3, 6, 4, 5, 4, 7, 8],\n",
    "    \"Date\": [\n",
    "        \"2010-11-20\", \"2009-01-15\", \"2010-07-14\", \"2010-07-01\", \"2010-06-08\",\n",
    "        \"2011-02-02\", \"2010-09-21\", \"2009-03-03\", \"2010-10-12\", \"2011-12-21\"\n",
    "    ],\n",
    "    \"Test name\": [\n",
    "        \"Haemoglobin\", \"Haemoglobin\", \"Platelets\", \"Haemoglobin\", \"Haemoglobin\",\n",
    "        \"Haemoglobin\", \"Haemoglobin\", \"Haemoglobin\", \"Platelets\", \"Haemoglobin\"\n",
    "    ],\n",
    "    \"Test result\": [\"154\", \"132\", \"320\", \"145\", \"165\", \"157\", \"157\", \"139\", \"275\", \"170\"],\n",
    "    \"Test units\": [\"g/L\", \"g/L\", \"N/nL\", \"g/L\", \"g/L\", \"g/L\", \"g/L\", \"g/L\", \"N/nL\", \"g/L\"]\n",
    "}\n",
    "\n",
    "postcodes = {\n",
    "    \"Patientid\" : [1, 3, 4],\n",
    "    \"state\" : [\"VIC\", \"NT\", \"NSW\"]\n",
    "}\n",
    "\n",
    "# Finally, lets convert to DataFrame\n",
    "pathology_test_data = EasyDataFrame(data)\n",
    "dfpostcodes = EasyDataFrame(postcodes)\n",
    "pathology_test_data[\"Date\"] = pd.to_datetime(pathology_test_data[\"Date\"], dayfirst=True, errors='coerce')\n",
    "\n",
    "# Display the DataFrame\n",
    "pathology_test_data\n",
    "\n"
   ]
  },
  {
   "cell_type": "markdown",
   "id": "69f71c6e-5025-4ca5-bab1-1608509e05e7",
   "metadata": {},
   "source": [
    "## 1. Filter\n",
    "\n",
    "To filter a dataset means to select **only those rows that satisfy a particular logical condition**. \n",
    "\n",
    "In the example at the start we filtered the dataset based on the condition that a row must have a date value that corresponds to the year 2010, and a test result that corresponds to haemoglobin. We can think of the filter operation as going through each row one by one and checking each row to see if it passes the condition (i.e. meets the criteria).\n",
    " \n",
    "\n",
    " \n",
    "\n",
    "Select the cell below and hit ▶️ Run\n"
   ]
  },
  {
   "cell_type": "code",
   "execution_count": null,
   "id": "25f4d7b8",
   "metadata": {},
   "outputs": [],
   "source": [
    "filtered_df = pathology_test_data[pathology_test_data[\"Test name\"] == \"Haemoglobin\"]\n",
    "\n",
    "filtered_df"
   ]
  },
  {
   "cell_type": "markdown",
   "id": "272d1538",
   "metadata": {},
   "source": [
    "### 👨‍💻 Activity: Mix it up\n",
    "\n",
    "Take the code block above and try to make some adjustments. Try filtering through a different column with a different value."
   ]
  },
  {
   "cell_type": "code",
   "execution_count": null,
   "id": "e6a83324",
   "metadata": {},
   "outputs": [],
   "source": [
    "# Write (or copy/paste) the filter code here and then adjust!\n",
    "\n",
    "\n"
   ]
  },
  {
   "cell_type": "markdown",
   "id": "230c42c4-bcd8-4a3f-b25e-7a3ccba51b87",
   "metadata": {},
   "source": [
    "## 2. Select\n",
    "\n",
    "Select is a more basic operation which involves selecting a certain subset of the columns of the table. In the example below we select the two columns 'Test name' and 'Test result'.\n",
    "\n",
    "\n",
    "Select the cell below and hit ▶️ Run"
   ]
  },
  {
   "cell_type": "code",
   "execution_count": null,
   "id": "50cc07aa-0c11-4205-99fc-25eeabe265cd",
   "metadata": {},
   "outputs": [],
   "source": [
    "pathology_test_data.select(['Test name', 'Test result'])"
   ]
  },
  {
   "cell_type": "markdown",
   "id": "176008ab",
   "metadata": {},
   "source": [
    "### 👨‍💻 Activity: Mix it up\n",
    "\n",
    "Take the code block above and try to make some adjustments. Try selecting some different columns."
   ]
  },
  {
   "cell_type": "code",
   "execution_count": null,
   "id": "9ed7dbb2",
   "metadata": {},
   "outputs": [],
   "source": [
    "# Write (or copy/paste) the filter code here and then adjust!\n",
    "\n",
    "\n"
   ]
  },
  {
   "cell_type": "markdown",
   "id": "2781bba0-ffb0-46e3-ae48-bd42306743ec",
   "metadata": {},
   "source": [
    "# Functions\n",
    "A function is a mathematical object that **takes an input** and **produces a single well-defined output**. Below are two examples of two different functions that we may encounter or that we may choose to define ourselves. Note that a function may produce the same value for two different input values but cannot produce two different output values for a single input value. For example, calculating a patient’s Body Mass Index is a function – you input the weight and height, and it produces one output value (the BMI). \n",
    "\n",
    "<img src=\"function_flowchart.png\" alt=\"My Chart\" width=\"600\"/>"
   ]
  },
  {
   "cell_type": "markdown",
   "id": "f0b769cd",
   "metadata": {},
   "source": [
    "## 3. Group by\n",
    "\n",
    "Group by is a slightly more complex but particularly useful operation. It involves splitting rows of the table into groups, and then separately applying an operation to values within each group. In the example below the data is separated based on the blood test name and then within each group the maximum value of the blood test result is calculated.\n",
    "\n",
    "Select the cell below and hit ▶️ Run"
   ]
  },
  {
   "cell_type": "code",
   "execution_count": null,
   "id": "22dc3619-c730-4890-a059-d41fdd4e2fbb",
   "metadata": {},
   "outputs": [],
   "source": [
    "pathology_test_data.groupby('Test name', 'Test result', 'max')"
   ]
  },
  {
   "cell_type": "markdown",
   "id": "388d1b6e",
   "metadata": {},
   "source": [
    "This operation allows us to aggregate information within an entire group. We may want to use a dataset of heights of male and female patients to calculate the average height of men and women in Australia. In this case we would group the data by sex and then within each group calculate the average of the height variable. "
   ]
  },
  {
   "cell_type": "markdown",
   "id": "f7aaaeee",
   "metadata": {},
   "source": [
    "### 👨‍💻 **Activity: Mix it up**\n",
    "\n",
    "Take the code block above and try to make some adjustments. Try finding the minimum or mixing up the groups. \n",
    "\n",
    "You can adjust the code above and re-run the cell. Or you can add a cell below by pressing the ➕ icon in the top menu."
   ]
  },
  {
   "cell_type": "markdown",
   "id": "8e2ee5fa-efbc-497f-8a52-811e3a9d5d72",
   "metadata": {},
   "source": [
    "## 4. Sort\n",
    "\n",
    "Sometimes we would like to transform a table so that it is ordered in a particular way. In the example below the sort operation is applied to produce a new table where the rows are ordered by ascending date, with earlier dates appearing higher in the table. \n",
    "\n",
    "Select the cell below and hit ▶️ Run"
   ]
  },
  {
   "cell_type": "code",
   "execution_count": null,
   "id": "7018f0fd-f5d2-4fb8-96a9-c975d4d6e948",
   "metadata": {},
   "outputs": [],
   "source": [
    "pathology_test_data.sort('Date', 'ascending')"
   ]
  },
  {
   "cell_type": "markdown",
   "id": "864883b2",
   "metadata": {},
   "source": [
    "### 👨‍💻 **Mix it up**\n",
    "\n",
    "Take the code block above and try to make some adjustments."
   ]
  },
  {
   "cell_type": "markdown",
   "id": "a74660be-1676-438b-95a4-586bd80d9e75",
   "metadata": {},
   "source": [
    "## 5. Add column\n",
    "\n",
    "It is also useful to add additional columns to a table, either with new information or as the result of applying a function to existing columns. In the example below a new column is added to the original table by extracting the name of the month from the date column.\n",
    "\n",
    "Select the cell below and hit ▶️ Run"
   ]
  },
  {
   "cell_type": "code",
   "execution_count": null,
   "id": "fffe0aea-a994-4a26-a9e4-938ef3a21411",
   "metadata": {},
   "outputs": [],
   "source": [
    "# The following code chunk will get the month. You can ignore it\n",
    "def get_month(date):\n",
    "    return date.strftime('%B') if pd.notnull(date) else None\n",
    "\n",
    "# This is the code where we add the column\n",
    "\n",
    "pathology_test_data.add_derived_column('Date', 'month_name', get_month)"
   ]
  },
  {
   "cell_type": "markdown",
   "id": "8d39823d",
   "metadata": {},
   "source": [
    "### 👨‍💻 **Mix it up**\n",
    "\n",
    "Take the code block above and try to make some adjustments."
   ]
  },
  {
   "cell_type": "markdown",
   "id": "d37d4891-5362-4422-95af-4dd3840ac6f3",
   "metadata": {},
   "source": [
    "## 6.Joins\n",
    "\n",
    "Finally, a slightly more complex set of transformations involves joining two different tables in a way that combines information from both. We won’t spend too much time on these, and you are not expected to understand these in detail. However, if you are interested, four of the main join operations are but summarised below. \n",
    "\n",
    "We care going to use the following Postcodes table as our second table. And let's place our original table here for reference too.\n"
   ]
  },
  {
   "cell_type": "code",
   "execution_count": null,
   "id": "7760280e-266b-4ada-baee-122a6ef422ca",
   "metadata": {},
   "outputs": [],
   "source": [
    "dfpostcodes"
   ]
  },
  {
   "cell_type": "code",
   "execution_count": null,
   "id": "475765b3",
   "metadata": {},
   "outputs": [],
   "source": [
    "pathology_test_data"
   ]
  },
  {
   "cell_type": "markdown",
   "id": "b19324a0",
   "metadata": {},
   "source": [
    "### 6.1 Left join \n",
    "\n",
    "This results in a new table containing all the information from the table on the left but may not contain all the information from the table on the right. \n",
    "\n",
    "A **Left Join** returns all records from the left table and the matched records from the right table.\n",
    "\n",
    "- ✅ All rows from the left table are included.\n",
    "- ✅ Matching rows from the right table are included.\n",
    "- ❌ If there is no match, NULLs/NaN are returned for columns from the right table."
   ]
  },
  {
   "cell_type": "markdown",
   "id": "928a737a",
   "metadata": {},
   "source": [
    "Now let's, perform the join."
   ]
  },
  {
   "cell_type": "code",
   "execution_count": null,
   "id": "c1c06b62",
   "metadata": {},
   "outputs": [],
   "source": [
    "pathology_test_data.join(dfpostcodes, left_on='Patientid', right_on='Patientid', how='left') "
   ]
  },
  {
   "cell_type": "markdown",
   "id": "0f3be379-91f1-4145-99b9-a75f53fd7010",
   "metadata": {},
   "source": [
    "### 6.2 Right join\n",
    "This results in a new table containing all the information from the table on the right but may not contain all the information from the table on the left.\n",
    "\n",
    "- ✅ All rows from the right table are included.\n",
    "- ✅ Matching rows from the left table are included.\n",
    "- ❌ If there is no match, NULLs are returned for columns from the left table."
   ]
  },
  {
   "cell_type": "code",
   "execution_count": null,
   "id": "69ce833e-feb7-463f-8268-4b8863f568a4",
   "metadata": {},
   "outputs": [],
   "source": [
    "pathology_test_data.join(dfpostcodes, left_on='Patientid', right_on='Patientid', how='right') "
   ]
  },
  {
   "cell_type": "markdown",
   "id": "40dd2f1f",
   "metadata": {},
   "source": [
    "### 6.3 Inner join\n",
    "\n",
    "An **inner join** results in a new table that:\n",
    "\n",
    "- ✅ Records with matching keys in both tables are included.\n",
    "- ❌ Records with no match in either table are excluded."
   ]
  },
  {
   "cell_type": "code",
   "execution_count": null,
   "id": "5f1b4738",
   "metadata": {},
   "outputs": [],
   "source": [
    "pathology_test_data.join(dfpostcodes, left_on='Patientid', right_on='Patientid', how='inner') "
   ]
  },
  {
   "cell_type": "markdown",
   "id": "6e35ba1f",
   "metadata": {},
   "source": [
    "### 6.4 Outer join\n",
    "A **Outer Join** returns all records when there is a match in either the left or right table.\n",
    "\n",
    "- ✅ All rows from the left table are included.\n",
    "- ✅ All rows from the right table are included.\n",
    "- ✅ Matching rows from both tables are joined.\n",
    "- ❌ Where there is no match, NULLs are returned for missing columns from the opposite table.\n"
   ]
  },
  {
   "cell_type": "code",
   "execution_count": null,
   "id": "544f5538",
   "metadata": {},
   "outputs": [],
   "source": [
    "pathology_test_data.join(dfpostcodes, left_on='Patientid', right_on='Patientid', how='outer') "
   ]
  },
  {
   "cell_type": "markdown",
   "id": "11006273-1d38-4ab6-b732-d41f6a67ef0e",
   "metadata": {},
   "source": [
    "## Combining multiple data transformation operations\n",
    "\n",
    "Now we understand each of the operations individually, we can combine them in a sequence of transformations. Give these a shot!"
   ]
  },
  {
   "cell_type": "markdown",
   "id": "d9fe1a12-f25a-4b24-af03-8faf7f1c1b70",
   "metadata": {},
   "source": [
    "### Exercise one\n",
    "\n",
    "Get the maximum blood test result for each blood test, then sort from smallest to largest"
   ]
  },
  {
   "cell_type": "code",
   "execution_count": null,
   "id": "89dfdd7c-f849-4b27-bf77-a04133f181ac",
   "metadata": {},
   "outputs": [],
   "source": []
  },
  {
   "cell_type": "markdown",
   "id": "44d0254f-73e8-45b7-b6bb-6e45b97cce2e",
   "metadata": {},
   "source": [
    "### Exercise two\n",
    "\n",
    "Filter the data to haemoglobin results, then sort by patientid in reverse order, select the blood test name and result columns and then add a new column that labels the rows"
   ]
  },
  {
   "cell_type": "code",
   "execution_count": null,
   "id": "bdca5ae9-dca8-4f74-aebe-49d03f03defb",
   "metadata": {},
   "outputs": [],
   "source": []
  }
 ],
 "metadata": {
  "kernelspec": {
   "display_name": "Python 3 (ipykernel)",
   "language": "python",
   "name": "python3"
  },
  "language_info": {
   "codemirror_mode": {
    "name": "ipython",
    "version": 3
   },
   "file_extension": ".py",
   "mimetype": "text/x-python",
   "name": "python",
   "nbconvert_exporter": "python",
   "pygments_lexer": "ipython3",
   "version": "3.10.14"
  }
 },
 "nbformat": 4,
 "nbformat_minor": 5
}
